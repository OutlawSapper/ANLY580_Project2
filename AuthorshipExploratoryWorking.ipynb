{
 "cells": [
  {
   "cell_type": "markdown",
   "metadata": {},
   "source": [
    "# Authorship Detection (Working Script)"
   ]
  },
  {
   "cell_type": "code",
   "execution_count": 20,
   "metadata": {},
   "outputs": [],
   "source": [
    "## load required packages and set global conditions\n",
    "import pandas as pd\n",
    "import numpy as np\n",
    "from datetime import datetime\n",
    "import pytz\n",
    "import re\n",
    "import nltk\n",
    "import spacy\n",
    "import scipy.stats\n",
    "from sklearn.model_selection import train_test_split\n",
    "from sklearn.metrics import classification_report as clsr\n",
    "from sklearn.metrics import confusion_matrix, f1_score\n",
    "from sklearn.metrics import plot_confusion_matrix\n",
    "import random\n",
    "import matplotlib.pyplot as plt\n",
    "from collections import Counter \n",
    "import pickle\n",
    "\n",
    "pd.set_option('display.max_columns', None) \n",
    "pd.set_option('display.max_rows', None)\n",
    "pd.set_option('display.max_colwidth', None)\n",
    "\n",
    "np.set_printoptions(suppress=True)\n",
    "\n",
    "import warnings\n",
    "warnings.filterwarnings(\"ignore\")"
   ]
  },
  {
   "cell_type": "code",
   "execution_count": 2,
   "metadata": {},
   "outputs": [],
   "source": [
    "## load spacy\n",
    "nlp = spacy.load(\"en_core_web_sm\", parser = False)"
   ]
  },
  {
   "cell_type": "code",
   "execution_count": 3,
   "metadata": {},
   "outputs": [],
   "source": [
    "## load the current list of prefixes & remove # from the list \n",
    "## (keep hastags in tact)\n",
    "prefixes = list(nlp.Defaults.prefixes)\n",
    "prefixes.remove('#')\n",
    "\n",
    "## recompile a new prefix regex with the smaller list of prefixes\n",
    "prefix_regex = spacy.util.compile_prefix_regex(prefixes)\n",
    "## set the tokenizer prefix_search to use the search of the newly compiled regex\n",
    "nlp.tokenizer.prefix_search = prefix_regex.search"
   ]
  },
  {
   "cell_type": "code",
   "execution_count": 77,
   "metadata": {},
   "outputs": [],
   "source": [
    "## set colors for prettier prints\n",
    "class color:\n",
    "   PURPLE = '\\033[95m'\n",
    "   CYAN = '\\033[96m'\n",
    "   DARKCYAN = '\\033[36m'\n",
    "   BLUE = '\\033[94m'\n",
    "   GREEN = '\\033[92m'\n",
    "   YELLOW = '\\033[93m'\n",
    "   RED = '\\033[91m'\n",
    "   BOLD = '\\033[1m'\n",
    "   UNDERLINE = '\\033[4m'\n",
    "   END = '\\033[0m'"
   ]
  },
  {
   "cell_type": "markdown",
   "metadata": {},
   "source": [
    "### Define Functions for Load, Reformatting, and Basic Summarization Tasks"
   ]
  },
  {
   "cell_type": "code",
   "execution_count": 4,
   "metadata": {},
   "outputs": [],
   "source": [
    "def dataImport(file):\n",
    "    '''\n",
    "    Imports the data\n",
    "    Inputs: file (str)\n",
    "    Outputs: DF (Pandas DF)\n",
    "    '''\n",
    "    #import the dataset\n",
    "    DF = pd.read_csv(file)\n",
    "    \n",
    "    return DF"
   ]
  },
  {
   "cell_type": "code",
   "execution_count": 5,
   "metadata": {},
   "outputs": [],
   "source": [
    "def summaryStats(DF):\n",
    "    '''\n",
    "    Generate Summmary Statitics for the full feature space\n",
    "    Input: DF (pd DF)\n",
    "    Output: None\n",
    "    '''\n",
    "    \n",
    "    print('\\n###########', 'Summary Statistics', '###########\\n')\n",
    "    print('Dataframe Structure:', DF.shape)\n",
    "\n",
    "    print('\\nVariable Types:')\n",
    "    print(DF.dtypes)\n",
    "    \n",
    "    print('\\nSummary Stats (Quantitative Features)')\n",
    "    print(DF.describe())\n",
    "    \n",
    "    print('\\nSummary Stats (Qualitative Features)')\n",
    "    print(DF.describe(include=['object']))"
   ]
  },
  {
   "cell_type": "code",
   "execution_count": 6,
   "metadata": {},
   "outputs": [],
   "source": [
    "def reformatData(DF):\n",
    "    '''\n",
    "    Restructure the data as required (change column names, dtypes, etc) \n",
    "    Input: DF (pd DF)\n",
    "    Output: textDF (pd DF)\n",
    "    '''\n",
    "    #rename the columns\n",
    "    DF.columns = ['Datetime', 'TweetID','FullText', 'Truncated', 'RepliedTo',\n",
    "                  'GeoTagged', 'Coordinates', 'Location', 'RetweetCount', \n",
    "                  'FavoriteCount', 'Sensitive?', 'Lang', 'UserName', 'UserLocation',\n",
    "                  'UserDescription', 'UserFollowers', 'UserFriends', 'UserStatusCount']\n",
    "    \n",
    "    #convert the columns to the appropriate data types\n",
    "    DF['Datetime']= pd.to_datetime(DF['Datetime']) \n",
    "    \n",
    "    #convert remaining columns to the appropriate type\n",
    "    DF = DF.astype({'Sensitive?': bool, 'TweetID': str})\n",
    "    \n",
    "    #only focused on the text data so only retain columns of interest for\n",
    "    #textual analysis\n",
    "    textDF = DF[['Datetime', 'TweetID', 'FullText', 'UserName', 'Lang']]\n",
    "        \n",
    "    return textDF"
   ]
  },
  {
   "cell_type": "code",
   "execution_count": 7,
   "metadata": {},
   "outputs": [],
   "source": [
    "def scoreData(DF):\n",
    "    '''\n",
    "    Score the dataframe to ensure that each feature is in the appropriate value range\n",
    "    and/or has no NA\n",
    "    Input: DF (pd DF)\n",
    "    Output: None\n",
    "    '''\n",
    "    ##check datetime range\n",
    "    bad_date = 0\n",
    "    \n",
    "    #check date range (June 1, 2019 to Super Tuesday 2020)\n",
    "    for date in DF['Datetime']:\n",
    "        if date < datetime(2019, 6, 1, 0, 0, 0, 0, pytz.UTC) or \\\n",
    "            date > datetime(2020, 3, 3, 0, 0, 0, 0, pytz.UTC):\n",
    "            bad_date += 1\n",
    "    \n",
    "    #check for null values\n",
    "    bad_date += sum(DF['Datetime'].isnull())\n",
    "    \n",
    "    #TweetID should be unique\n",
    "    bad_id = len(DF['TweetID'])-len(DF['TweetID'].drop_duplicates())\n",
    "    bad_id += sum(DF['TweetID'].isnull())\n",
    "    \n",
    "    #FullText cannot be empty\n",
    "    bad_text = sum(DF['FullText'].isnull()) \n",
    "    \n",
    "    #UserName\n",
    "    names = ['Amy Klobuchar', 'Bernie Sanders', 'Elizabeth Warren', 'Joe Biden',\n",
    "             'Pete Buttigieg', 'Tom Steyer', 'Tulsi Gabbard 🌺']\n",
    "    \n",
    "    bad_names = 0\n",
    "    \n",
    "    for name in DF['UserName']:\n",
    "        if name not in names:\n",
    "            bad_names += 1\n",
    "     \n",
    "    ## check if the language is not english            \n",
    "    bad_lang = 0\n",
    "    \n",
    "    for language in DF['Lang']:\n",
    "        if language != 'en':\n",
    "            bad_lang += 1\n",
    "    \n",
    "    ## generate the score\n",
    "    print('\\n######## Data Frame Score by Column #########')   \n",
    "    print(\"Date Column: \", bad_date)\n",
    "    print(\"TweetID Column: \", bad_id)\n",
    "    print(\"Text Column: \", bad_text)\n",
    "    print(\"UserNames Column:\", bad_names)\n",
    "    print(\"Language Column (not English):\", bad_lang)\n",
    "    \n",
    "    bad_total = bad_date + bad_id + bad_text + bad_names + bad_lang\n",
    "    score = bad_total / (DF.shape[0]*DF.shape[1])\n",
    "    \n",
    "    print('\\n######## Total DF Score #########')   \n",
    "    print('Total DF Cleanliness Score:', 100-round(score * 100, 2))"
   ]
  },
  {
   "cell_type": "code",
   "execution_count": 8,
   "metadata": {},
   "outputs": [],
   "source": [
    "def cleanData(DF):\n",
    "    '''\n",
    "    Clean the dataset by dropping duplicate tweets and removing those that \n",
    "    are not in english\n",
    "    Input: DF (pd DF)\n",
    "    Output: DF (pd DF)\n",
    "    '''\n",
    "    #drop columns with duplicate tweet ID\n",
    "    DF = DF.drop_duplicates('TweetID', keep = 'last')\n",
    "\n",
    "    #drop tweets that are not in English    \n",
    "    DF = DF[DF['Lang'] == 'en']\n",
    "    \n",
    "    return DF"
   ]
  },
  {
   "cell_type": "code",
   "execution_count": 9,
   "metadata": {},
   "outputs": [],
   "source": [
    "def keepChars(tweet):\n",
    "    '''\n",
    "    Cleans an invididual tweet by removing non-character features, any url link, \n",
    "    etc. Designed to be used with a map function.\n",
    "    Input: tweet (list of tokens)\n",
    "    Output: charTweet (list of tokens)\n",
    "    '''\n",
    "    ## initialize a list to store the characters only\n",
    "    charTweet = []\n",
    "    \n",
    "    ## do I want to filter NER before I begin?????\n",
    "    \n",
    "    for token in tweet:\n",
    "        ## remove token if it contains a url link\n",
    "        if 'http' in token.text:\n",
    "            continue\n",
    "        \n",
    "        ## remove a token if it contains a mention, hastag, punctuation, etc.\n",
    "        elif re.match(r'[^0-9a-zA-Z_]', token.text):\n",
    "            continue\n",
    "        \n",
    "        ## remove token if it is less than one character long\n",
    "        elif len(token.text) < 2:\n",
    "            continue\n",
    "        \n",
    "        ## append the new token to the character only token list\n",
    "        else:\n",
    "            charTweet.append(token)\n",
    "        \n",
    "    return charTweet"
   ]
  },
  {
   "cell_type": "markdown",
   "metadata": {},
   "source": [
    "#### _Load and Understand the Data_"
   ]
  },
  {
   "cell_type": "code",
   "execution_count": 10,
   "metadata": {},
   "outputs": [
    {
     "data": {
      "text/html": [
       "<div>\n",
       "<style scoped>\n",
       "    .dataframe tbody tr th:only-of-type {\n",
       "        vertical-align: middle;\n",
       "    }\n",
       "\n",
       "    .dataframe tbody tr th {\n",
       "        vertical-align: top;\n",
       "    }\n",
       "\n",
       "    .dataframe thead th {\n",
       "        text-align: right;\n",
       "    }\n",
       "</style>\n",
       "<table border=\"1\" class=\"dataframe\">\n",
       "  <thead>\n",
       "    <tr style=\"text-align: right;\">\n",
       "      <th></th>\n",
       "      <th>created_at</th>\n",
       "      <th>id</th>\n",
       "      <th>full_text</th>\n",
       "      <th>truncated</th>\n",
       "      <th>in_reply_to_screen_name</th>\n",
       "      <th>geo</th>\n",
       "      <th>coordinates</th>\n",
       "      <th>place</th>\n",
       "      <th>retweet_count</th>\n",
       "      <th>favorite_count</th>\n",
       "      <th>possibly_sensitive</th>\n",
       "      <th>lang</th>\n",
       "      <th>user.name</th>\n",
       "      <th>user.location</th>\n",
       "      <th>user.description</th>\n",
       "      <th>user.followers_count</th>\n",
       "      <th>user.friends_count</th>\n",
       "      <th>user.statuses_count</th>\n",
       "    </tr>\n",
       "  </thead>\n",
       "  <tbody>\n",
       "    <tr>\n",
       "      <th>0</th>\n",
       "      <td>Mon Mar 02 01:07:24 +0000 2020</td>\n",
       "      <td>1234284135386095616</td>\n",
       "      <td>John Lewis leading marchers across the Edmund Pettus Bridge in Selma in 1965.  What an honor to see him there today, fighting cancer but his voice just as strong. https://t.co/UMp7Snao7T</td>\n",
       "      <td>False</td>\n",
       "      <td>NaN</td>\n",
       "      <td>NaN</td>\n",
       "      <td>NaN</td>\n",
       "      <td>NaN</td>\n",
       "      <td>599</td>\n",
       "      <td>4156</td>\n",
       "      <td>False</td>\n",
       "      <td>en</td>\n",
       "      <td>Amy Klobuchar</td>\n",
       "      <td>NaN</td>\n",
       "      <td>U.S. Senator from Minnesota. Text AMY to 91990 for updates.</td>\n",
       "      <td>1066377</td>\n",
       "      <td>137980</td>\n",
       "      <td>11782</td>\n",
       "    </tr>\n",
       "    <tr>\n",
       "      <th>1</th>\n",
       "      <td>Mon Mar 02 00:56:17 +0000 2020</td>\n",
       "      <td>1234281337776955392</td>\n",
       "      <td>Pete Buttigieg has run an inspiring and historic campaign.  I have so much respect for you @PeteButtigieg and know there are great things ahead. And both John and I are big fans of Chasten!</td>\n",
       "      <td>False</td>\n",
       "      <td>NaN</td>\n",
       "      <td>NaN</td>\n",
       "      <td>NaN</td>\n",
       "      <td>NaN</td>\n",
       "      <td>5019</td>\n",
       "      <td>89534</td>\n",
       "      <td>NaN</td>\n",
       "      <td>en</td>\n",
       "      <td>Amy Klobuchar</td>\n",
       "      <td>NaN</td>\n",
       "      <td>U.S. Senator from Minnesota. Text AMY to 91990 for updates.</td>\n",
       "      <td>1066377</td>\n",
       "      <td>137980</td>\n",
       "      <td>11782</td>\n",
       "    </tr>\n",
       "  </tbody>\n",
       "</table>\n",
       "</div>"
      ],
      "text/plain": [
       "                       created_at                   id  \\\n",
       "0  Mon Mar 02 01:07:24 +0000 2020  1234284135386095616   \n",
       "1  Mon Mar 02 00:56:17 +0000 2020  1234281337776955392   \n",
       "\n",
       "                                                                                                                                                                                       full_text  \\\n",
       "0     John Lewis leading marchers across the Edmund Pettus Bridge in Selma in 1965.  What an honor to see him there today, fighting cancer but his voice just as strong. https://t.co/UMp7Snao7T   \n",
       "1  Pete Buttigieg has run an inspiring and historic campaign.  I have so much respect for you @PeteButtigieg and know there are great things ahead. And both John and I are big fans of Chasten!   \n",
       "\n",
       "   truncated in_reply_to_screen_name  geo  coordinates  place  retweet_count  \\\n",
       "0      False                     NaN  NaN          NaN    NaN            599   \n",
       "1      False                     NaN  NaN          NaN    NaN           5019   \n",
       "\n",
       "   favorite_count possibly_sensitive lang      user.name user.location  \\\n",
       "0            4156              False   en  Amy Klobuchar           NaN   \n",
       "1           89534                NaN   en  Amy Klobuchar           NaN   \n",
       "\n",
       "                                              user.description  \\\n",
       "0  U.S. Senator from Minnesota. Text AMY to 91990 for updates.   \n",
       "1  U.S. Senator from Minnesota. Text AMY to 91990 for updates.   \n",
       "\n",
       "   user.followers_count  user.friends_count  user.statuses_count  \n",
       "0               1066377              137980                11782  \n",
       "1               1066377              137980                11782  "
      ]
     },
     "execution_count": 10,
     "metadata": {},
     "output_type": "execute_result"
    }
   ],
   "source": [
    "DF = dataImport('Data/DemTweetsReformat.csv')\n",
    "DF.head(2)"
   ]
  },
  {
   "cell_type": "code",
   "execution_count": 11,
   "metadata": {},
   "outputs": [
    {
     "name": "stdout",
     "output_type": "stream",
     "text": [
      "Elizabeth Warren    2347\n",
      "Joe Biden           2183\n",
      "Amy Klobuchar       2017\n",
      "Tom Steyer          1990\n",
      "Bernie Sanders      1861\n",
      "Pete Buttigieg      1700\n",
      "Tulsi Gabbard 🌺     1085\n",
      "Name: user.name, dtype: int64\n"
     ]
    }
   ],
   "source": [
    "## get the number of tweets by user\n",
    "print(DF['user.name'].value_counts())"
   ]
  },
  {
   "cell_type": "code",
   "execution_count": 12,
   "metadata": {},
   "outputs": [
    {
     "name": "stdout",
     "output_type": "stream",
     "text": [
      "\n",
      "########### Summary Statistics ###########\n",
      "\n",
      "Dataframe Structure: (13183, 18)\n",
      "\n",
      "Variable Types:\n",
      "created_at                  object\n",
      "id                           int64\n",
      "full_text                   object\n",
      "truncated                     bool\n",
      "in_reply_to_screen_name     object\n",
      "geo                        float64\n",
      "coordinates                float64\n",
      "place                      float64\n",
      "retweet_count                int64\n",
      "favorite_count               int64\n",
      "possibly_sensitive          object\n",
      "lang                        object\n",
      "user.name                   object\n",
      "user.location               object\n",
      "user.description            object\n",
      "user.followers_count         int64\n",
      "user.friends_count           int64\n",
      "user.statuses_count          int64\n",
      "dtype: object\n",
      "\n",
      "Summary Stats (Quantitative Features)\n",
      "                 id  geo  coordinates  place  retweet_count  favorite_count  \\\n",
      "count  1.318300e+04  0.0          0.0    0.0   13183.000000    13183.000000   \n",
      "mean   1.196794e+18  NaN          NaN    NaN    1385.434499     7953.664265   \n",
      "std    2.765583e+16  NaN          NaN    NaN    3682.174989    21278.888434   \n",
      "min    1.134630e+18  NaN          NaN    NaN       0.000000        0.000000   \n",
      "25%    1.176855e+18  NaN          NaN    NaN     163.000000      804.000000   \n",
      "50%    1.200207e+18  NaN          NaN    NaN     458.000000     2377.000000   \n",
      "75%    1.221556e+18  NaN          NaN    NaN    1281.500000     6870.500000   \n",
      "max    1.234624e+18  NaN          NaN    NaN  149620.000000   927489.000000   \n",
      "\n",
      "       user.followers_count  user.friends_count  user.statuses_count  \n",
      "count          1.318300e+04        13183.000000         13183.000000  \n",
      "mean           3.888339e+06        22221.559205         10784.147918  \n",
      "std            3.781732e+06        49210.889891          3715.848415  \n",
      "min            3.171780e+05           26.000000          4822.000000  \n",
      "25%            1.066377e+06          549.000000          9754.000000  \n",
      "50%            1.869978e+06         1464.000000         10347.000000  \n",
      "75%            5.593403e+06         2636.000000         11782.000000  \n",
      "max            1.202887e+07       137980.000000         18039.000000  \n",
      "\n",
      "Summary Stats (Qualitative Features)\n",
      "                            created_at                     full_text  \\\n",
      "count                            13183                         13183   \n",
      "unique                           12616                         13033   \n",
      "top     Fri Jun 07 22:05:24 +0000 2019  Join Tulsi Gabbard LIVE now!   \n",
      "freq                                 5                            12   \n",
      "\n",
      "       in_reply_to_screen_name possibly_sensitive   lang         user.name  \\\n",
      "count                     1705               9312  13183             13183   \n",
      "unique                     533                  2     20                 7   \n",
      "top                    ewarren              False     en  Elizabeth Warren   \n",
      "freq                       329               9307  12926              2347   \n",
      "\n",
      "        user.location  \\\n",
      "count           11166   \n",
      "unique              6   \n",
      "top     Massachusetts   \n",
      "freq             2347   \n",
      "\n",
      "                                                                                                                         user.description  \n",
      "count                                                                                                                               13183  \n",
      "unique                                                                                                                                  7  \n",
      "top     U.S. Senator, former teacher. Wife, mom (Amelia, Alex, Bailey, @CFPB), grandmother, and Okie. She/her. Official campaign account.  \n",
      "freq                                                                                                                                 2347  \n"
     ]
    }
   ],
   "source": [
    "## generate basic summary statistics\n",
    "summaryStats(DF)"
   ]
  },
  {
   "cell_type": "code",
   "execution_count": 13,
   "metadata": {},
   "outputs": [],
   "source": [
    "## reformat the dataframe--removing unneeded column\n",
    "## modifying data types, etc.\n",
    "DF = reformatData(DF)"
   ]
  },
  {
   "cell_type": "code",
   "execution_count": 14,
   "metadata": {},
   "outputs": [
    {
     "name": "stdout",
     "output_type": "stream",
     "text": [
      "\n",
      "######## Data Frame Score by Column #########\n",
      "Date Column:  0\n",
      "TweetID Column:  138\n",
      "Text Column:  0\n",
      "UserNames Column: 0\n",
      "Language Column (not English): 257\n",
      "\n",
      "######## Total DF Score #########\n",
      "Total DF Cleanliness Score: 99.4\n"
     ]
    }
   ],
   "source": [
    "## get a preliminary score for the dataset cleanliness\n",
    "scoreData(DF)"
   ]
  },
  {
   "cell_type": "code",
   "execution_count": 15,
   "metadata": {},
   "outputs": [
    {
     "name": "stdout",
     "output_type": "stream",
     "text": [
      "\n",
      "######## Data Frame Score by Column #########\n",
      "Date Column:  0\n",
      "TweetID Column:  0\n",
      "Text Column:  0\n",
      "UserNames Column: 0\n",
      "Language Column (not English): 0\n",
      "\n",
      "######## Total DF Score #########\n",
      "Total DF Cleanliness Score: 100.0\n"
     ]
    }
   ],
   "source": [
    "## clean the data\n",
    "DF = cleanData(DF)\n",
    "\n",
    "## rescore the data\n",
    "scoreData(DF)"
   ]
  },
  {
   "cell_type": "code",
   "execution_count": 16,
   "metadata": {},
   "outputs": [],
   "source": [
    "## tokenize every tweet in the dataframe & adding a new column in the process\n",
    "DF['Tokens'] = DF['FullText'].apply(lambda x: nlp.tokenizer(x))\n",
    "DF['TextOnly'] = DF['Tokens'].map(keepChars)"
   ]
  },
  {
   "cell_type": "code",
   "execution_count": 17,
   "metadata": {},
   "outputs": [
    {
     "data": {
      "text/html": [
       "<div>\n",
       "<style scoped>\n",
       "    .dataframe tbody tr th:only-of-type {\n",
       "        vertical-align: middle;\n",
       "    }\n",
       "\n",
       "    .dataframe tbody tr th {\n",
       "        vertical-align: top;\n",
       "    }\n",
       "\n",
       "    .dataframe thead th {\n",
       "        text-align: right;\n",
       "    }\n",
       "</style>\n",
       "<table border=\"1\" class=\"dataframe\">\n",
       "  <thead>\n",
       "    <tr style=\"text-align: right;\">\n",
       "      <th></th>\n",
       "      <th>Datetime</th>\n",
       "      <th>TweetID</th>\n",
       "      <th>FullText</th>\n",
       "      <th>UserName</th>\n",
       "      <th>Lang</th>\n",
       "      <th>Tokens</th>\n",
       "      <th>TextOnly</th>\n",
       "    </tr>\n",
       "  </thead>\n",
       "  <tbody>\n",
       "    <tr>\n",
       "      <th>0</th>\n",
       "      <td>2020-03-02 01:07:24+00:00</td>\n",
       "      <td>1234284135386095616</td>\n",
       "      <td>John Lewis leading marchers across the Edmund Pettus Bridge in Selma in 1965.  What an honor to see him there today, fighting cancer but his voice just as strong. https://t.co/UMp7Snao7T</td>\n",
       "      <td>Amy Klobuchar</td>\n",
       "      <td>en</td>\n",
       "      <td>(John, Lewis, leading, marchers, across, the, Edmund, Pettus, Bridge, in, Selma, in, 1965, .,  , What, an, honor, to, see, him, there, today, ,, fighting, cancer, but, his, voice, just, as, strong, ., https://t.co/UMp7Snao7, T)</td>\n",
       "      <td>[John, Lewis, leading, marchers, across, the, Edmund, Pettus, Bridge, in, Selma, in, 1965, What, an, honor, to, see, him, there, today, fighting, cancer, but, his, voice, just, as, strong]</td>\n",
       "    </tr>\n",
       "    <tr>\n",
       "      <th>1</th>\n",
       "      <td>2020-03-02 00:56:17+00:00</td>\n",
       "      <td>1234281337776955392</td>\n",
       "      <td>Pete Buttigieg has run an inspiring and historic campaign.  I have so much respect for you @PeteButtigieg and know there are great things ahead. And both John and I are big fans of Chasten!</td>\n",
       "      <td>Amy Klobuchar</td>\n",
       "      <td>en</td>\n",
       "      <td>(Pete, Buttigieg, has, run, an, inspiring, and, historic, campaign, .,  , I, have, so, much, respect, for, you, @PeteButtigieg, and, know, there, are, great, things, ahead, ., And, both, John, and, I, are, big, fans, of, Chasten, !)</td>\n",
       "      <td>[Pete, Buttigieg, has, run, an, inspiring, and, historic, campaign, have, so, much, respect, for, you, and, know, there, are, great, things, ahead, And, both, John, and, are, big, fans, of, Chasten]</td>\n",
       "    </tr>\n",
       "  </tbody>\n",
       "</table>\n",
       "</div>"
      ],
      "text/plain": [
       "                   Datetime              TweetID  \\\n",
       "0 2020-03-02 01:07:24+00:00  1234284135386095616   \n",
       "1 2020-03-02 00:56:17+00:00  1234281337776955392   \n",
       "\n",
       "                                                                                                                                                                                        FullText  \\\n",
       "0     John Lewis leading marchers across the Edmund Pettus Bridge in Selma in 1965.  What an honor to see him there today, fighting cancer but his voice just as strong. https://t.co/UMp7Snao7T   \n",
       "1  Pete Buttigieg has run an inspiring and historic campaign.  I have so much respect for you @PeteButtigieg and know there are great things ahead. And both John and I are big fans of Chasten!   \n",
       "\n",
       "        UserName Lang  \\\n",
       "0  Amy Klobuchar   en   \n",
       "1  Amy Klobuchar   en   \n",
       "\n",
       "                                                                                                                                                                                                                                     Tokens  \\\n",
       "0       (John, Lewis, leading, marchers, across, the, Edmund, Pettus, Bridge, in, Selma, in, 1965, .,  , What, an, honor, to, see, him, there, today, ,, fighting, cancer, but, his, voice, just, as, strong, ., https://t.co/UMp7Snao7, T)   \n",
       "1  (Pete, Buttigieg, has, run, an, inspiring, and, historic, campaign, .,  , I, have, so, much, respect, for, you, @PeteButtigieg, and, know, there, are, great, things, ahead, ., And, both, John, and, I, are, big, fans, of, Chasten, !)   \n",
       "\n",
       "                                                                                                                                                                                                 TextOnly  \n",
       "0            [John, Lewis, leading, marchers, across, the, Edmund, Pettus, Bridge, in, Selma, in, 1965, What, an, honor, to, see, him, there, today, fighting, cancer, but, his, voice, just, as, strong]  \n",
       "1  [Pete, Buttigieg, has, run, an, inspiring, and, historic, campaign, have, so, much, respect, for, you, and, know, there, are, great, things, ahead, And, both, John, and, are, big, fans, of, Chasten]  "
      ]
     },
     "execution_count": 17,
     "metadata": {},
     "output_type": "execute_result"
    }
   ],
   "source": [
    "## confirm edits and final dataset structure\n",
    "DF.head(2)"
   ]
  },
  {
   "cell_type": "markdown",
   "metadata": {},
   "source": [
    "### Exploratory Analysis #1: Mendenall Curve"
   ]
  },
  {
   "cell_type": "code",
   "execution_count": 18,
   "metadata": {},
   "outputs": [],
   "source": [
    "def mendenhallAnalysis(nlp, DF):\n",
    "    '''\n",
    "    Generate Mendenhall's Curve to understand the stylometric differences\n",
    "    between the candidate's tweeting styles\n",
    "    Input: nlp (spaCy) and DF (pandas)\n",
    "    Output: None\n",
    "    '''\n",
    "    ## initialize a dictionary to store the results\n",
    "    totalDict = {}\n",
    "    \n",
    "    ## for each candidate count the number of times that words of each\n",
    "    ## word length are used\n",
    "    for name in DF['UserName'].unique():\n",
    "        text = DF[DF['UserName'] == name]['TextOnly']\n",
    "        \n",
    "        ## the candidate's word length dictionary\n",
    "        candDict = {}\n",
    "        \n",
    "        ## for each tweet calculate the length of each word\n",
    "        for tweet in text:\n",
    "            for token in tweet:\n",
    "                tokenLen = len(token)\n",
    "                \n",
    "                ## if that word length exists in the dictionary add one\n",
    "                ## otherwise add a new value\n",
    "                if tokenLen in candDict.keys():\n",
    "                    candDict[tokenLen] += 1\n",
    "                else:\n",
    "                    candDict[tokenLen] = 0\n",
    "        \n",
    "        ## sum the candidate's total tokens (to generate relative value)\n",
    "        sumTokens = sum(candDict.values())            \n",
    "        \n",
    "        ## generate the relative useage rate and sort by key (word length)\n",
    "        totalDict[name] = {k: v/sumTokens for k, v in sorted(candDict.items(), key=lambda item: item[0], reverse = False)}\n",
    "        \n",
    "    ## generate mendenhall's curve\n",
    "    fig, ax = plt.subplots(figsize = (12,8))\n",
    "\n",
    "    for cand in totalDict.keys():\n",
    "        ## if the candidate's word length range was relatively unique\n",
    "        ## assign a random color and associate it with their name\n",
    "        ## otherwise color their curve grey and give the generic 'Other Candidate Label'\n",
    "        if totalDict[cand][3] > .22:\n",
    "            ax.plot(totalDict[cand].keys(), totalDict[cand].values(), label = cand)\n",
    "        elif totalDict[cand][4] < .17:\n",
    "            ax.plot(totalDict[cand].keys(), totalDict[cand].values(), label = cand)\n",
    "        else:\n",
    "            try:\n",
    "                i\n",
    "            except:\n",
    "                i = 0\n",
    "            ax.plot(totalDict[cand].keys(), totalDict[cand].values(), color = '#D3D3D3',\n",
    "                    alpha = .6, label = 'Other Candidates' if i == 0 else '')\n",
    "            i += 1\n",
    "    \n",
    "    ## clean the plot and its formatting\n",
    "    ax.set_xlim(2, 15)    \n",
    "    ax.set_ylim(0, .24)\n",
    "    ax.spines['right'].set_visible(False)\n",
    "    ax.spines['top'].set_visible(False)\n",
    "    ax.set_xlabel('Word Length')\n",
    "    ax.set_ylabel('Percent of Total Words')\n",
    "    ax.set_yticklabels([\"{:.0%}\".format(i) for i in ax.get_yticks()])\n",
    "    ax.set_title(\"Candidate Word Length Tendancies: Mendenhall's Characteristic Curve\", \n",
    "                 loc = 'left', fontweight = 'semibold', fontsize = 14)\n",
    "    ax.legend(title = '$\\\\bf{Candidate}$', edgecolor = 'none')     "
   ]
  },
  {
   "cell_type": "code",
   "execution_count": 21,
   "metadata": {},
   "outputs": [
    {
     "data": {
      "image/png": "[encoded data removed]",
      "text/plain": [
       "<Figure size 864x576 with 1 Axes>"
      ]
     },
     "metadata": {
      "needs_background": "light"
     },
     "output_type": "display_data"
    }
   ],
   "source": [
    "## build the Mendenhall Curve\n",
    "mendenhallAnalysis(nlp, DF)"
   ]
  },
  {
   "cell_type": "markdown",
   "metadata": {},
   "source": [
    "The analysis above is based on the work of literary scholar T.C. Mendenhall who theorized in 1887 that an author's stylistic signature could be determined by counting how often they used words of different lengths. While coarse by necessity of the time period in which he lived, the results of this analysis can be quickly generated and may provide some interesting insights (François Dominic Laramée, 2018). \n",
    "\n",
    "Studying Mendenhall’s Characteristic Curves of Composition, there appears to be little difference in terms of word-length usage between Democratic Presidential Candidates on Twitter. Tom Steyer (the orange curve)--a non-career politician--had the most distinct curve of the group as he tended to use larger words more frequently than the other canidates. Could this be a sign of his naiveness about what constitutes a successul social media campaign for a politician? Additionally, two of three woman candidates studied (Amy Klobuchar and Tulsi Gabbard) tended to use three-letter words much more frequently than their male-counterparts. This may be a signal a concerted effort by both campaigns to make their candidates relatable through simple and direct language. "
   ]
  },
  {
   "cell_type": "markdown",
   "metadata": {},
   "source": [
    "### Exploratory Analysis #1: Kilgariff's Chi-Squared Method"
   ]
  },
  {
   "cell_type": "markdown",
   "metadata": {},
   "source": [
    "#### _Determine a Ideal Number of Common Words Shared by All Candidates_"
   ]
  },
  {
   "cell_type": "code",
   "execution_count": 24,
   "metadata": {},
   "outputs": [],
   "source": [
    "def wordCounter(text):\n",
    "    return Counter([w.lemma_.lower() for w in text])"
   ]
  },
  {
   "cell_type": "code",
   "execution_count": 25,
   "metadata": {},
   "outputs": [],
   "source": [
    "## instatiate a counter object to store the results\n",
    "totalCount = Counter()\n",
    "\n",
    "## get the word count for each type in the corpus \n",
    "## and add that to the main counter object\n",
    "for wDict in DF['Tokens'].map(wordCounter):\n",
    "    totalCount += wDict"
   ]
  },
  {
   "cell_type": "code",
   "execution_count": 54,
   "metadata": {},
   "outputs": [
    {
     "data": {
      "image/png": "[encoded data removed]",
      "text/plain": [
       "<Figure size 864x576 with 1 Axes>"
      ]
     },
     "metadata": {
      "needs_background": "light"
     },
     "output_type": "display_data"
    }
   ],
   "source": [
    "## sort the values and labels accordingly for better plotting\n",
    "sortedCount = sorted(totalCount.values(), reverse = True)[:200]\n",
    "sortedLabels = sorted(totalCount, key=totalCount.get, reverse = True) \n",
    "\n",
    "## visualize the results\n",
    "fig, ax = plt.subplots(figsize = (12, 8))    \n",
    "ax.plot(range(0, 200), sortedCount, color = '#878787')\n",
    "ax.set_title('Kilgariff Method: Selecting Number of Common Tokens', \n",
    "            loc = 'left', fontsize = 16, fontweight = 'demi')\n",
    "\n",
    "ax.plot(50, sortedCount[50],\n",
    "        marker = 'X', markersize = 15, color = 'blue')\n",
    "text = 'Last Token\\nToken:  \"{}\"\\nFrequency:  {:,}'.\\\n",
    "format(sortedLabels[50], sortedCount[50])\n",
    "ax.annotate(text, xy = (50, sortedCount[50]),\n",
    "           xytext = (56, sortedCount[50]+250),\n",
    "           fontsize = 11.5)\n",
    "\n",
    "ax.plot(0, sortedCount[0],\n",
    "        marker = 'X', markersize = 10, color = '#306998')\n",
    "text = 'Most Common Token\\nToken: \"{}\"\\nFrequency: {:,}'.\\\n",
    "format(sortedLabels[0], sortedCount[0])\n",
    "ax.annotate(text, xy = (0, sortedCount[0]),\n",
    "           xytext = (5, sortedCount[0]-1250),\n",
    "           fontsize = 11.5)\n",
    "\n",
    "ax.plot(25, sortedCount[25],\n",
    "        marker = 'X', markersize = 10, color = '#306998')\n",
    "text = '25th Token\\nToken: \"{}\"\\nFrequency: {:,}'.\\\n",
    "format(sortedLabels[25], sortedCount[25])\n",
    "ax.annotate(text, xy = (25, sortedCount[25]),\n",
    "           xytext = (22, sortedCount[25]+1000),\n",
    "           fontsize = 11.5)\n",
    "\n",
    "## clean the plot's formatting\n",
    "ax.set_ylabel('Word Frequency', fontsize = 12)\n",
    "ax.set_ylim(0,sortedCount[0]+2000)\n",
    "ax.set_xlabel('Number of Words', fontsize = 12)\n",
    "ax.set_xlim(-1,)\n",
    "ax.spines['right'].set_visible(False)\n",
    "ax.spines['top'].set_visible(False)"
   ]
  },
  {
   "cell_type": "code",
   "execution_count": 85,
   "metadata": {},
   "outputs": [
    {
     "name": "stdout",
     "output_type": "stream",
     "text": [
      "\u001b[96m\u001b[1m\n",
      "##### WORD USE RANKING #####\n",
      "1-10         11-20        21-30        31-40        41-50        \n",
      "\u001b[0m.            have         on           :            make         \n",
      "the          for          you          trump        fight        \n",
      "to           -pron-       —            people       at           \n",
      ",            our          with         all          get          \n",
      "be           that         it           president    work         \n",
      "and          i            ’s           my           country      \n",
      "a            this         do           who          us           \n",
      "of           not          can          much         from         \n",
      "in           will         !            need         by           \n",
      "we           -enter-      -            american     go           \n"
     ]
    }
   ],
   "source": [
    "## see the top 50 words\n",
    "sortedLabels[19] = '-enter-' ##clean up the literal carriage returns\n",
    "\n",
    "## print the header information\n",
    "print(color.CYAN + color.BOLD)\n",
    "print('##### WORD USE RANKING #####')\n",
    "print('{:<13}{:<13}{:<13}{:<13}{:<13}'.format('1-10', '11-20', '21-30',\n",
    "                                              '31-40', '41-50'))\n",
    "print(color.END, end='')\n",
    "\n",
    "## clean print the results\n",
    "for i in range(0, 10):\n",
    "    print(r'{:<13}{:<13}{:<13}{:<13}{:<13}'.format(sortedLabels[i], \n",
    "                                             sortedLabels[i+10],\n",
    "                                             sortedLabels[i+20],\n",
    "                                             sortedLabels[i+30],\n",
    "                                             sortedLabels[i+40]))"
   ]
  },
  {
   "cell_type": "code",
   "execution_count": 86,
   "metadata": {},
   "outputs": [],
   "source": [
    "def kilgariffMethod(DF):\n",
    "    '''\n",
    "    Conduct's the Kilgariff Method of authorship analysis by looking\n",
    "    at how each each author uses the most common words from the corpus\n",
    "    writ large. The method of calculation relies upon the Chi-Square\n",
    "    statistic to calculate the author's \"distance\" from the collective\n",
    "    mean.\n",
    "    \n",
    "    Input: DF (pandas DF)\n",
    "    Output: chiResults (dictionary)\n",
    "    '''\n",
    "    #### get total corpus word count ####\n",
    "    ## instatiate a counter object to store the results\n",
    "    totalCount = Counter()\n",
    "\n",
    "    ## get the word count for each type in the corpus \n",
    "    ## and add that to the main counter object\n",
    "    for wDict in DF['Tokens'].map(wordCounter):\n",
    "        totalCount += wDict\n",
    "        \n",
    "    ## extract the most common 50 words\n",
    "    totalCommon = totalCount.most_common()[0:50] \n",
    "    \n",
    "    ## store the results of the chi-square test\n",
    "    chiResults = {}\n",
    "    \n",
    "    ## calculate the chi-square value for each candidate's\n",
    "    ## use of the top 100 words compared to the group norm\n",
    "    for cand in DF['UserName'].unique():\n",
    "        ## instatiate a counter for each candidate\n",
    "        candCount = Counter()\n",
    "        \n",
    "        ## generate the word count breakdown for each candidate\n",
    "        candDict = DF[DF['UserName'] == cand]['Tokens'].map(wordCounter)\n",
    "        for wDict in candDict:\n",
    "            candCount += wDict\n",
    "        \n",
    "        ##calcuate the canidate's total word count\n",
    "        candTotal = sum(candCount.values())\n",
    "        \n",
    "        ## calculate the chi-square parameters\n",
    "        actual = []      ## list to store the actual word useage\n",
    "        expected = []    ## list to store the expected word useage\n",
    "        \n",
    "        ## calcuate the canidate's expected useage ratio\n",
    "        candRatio = candTotal / sum(totalCount.values())\n",
    "        for word, count in totalCommon:\n",
    "            actual.append(candCount[word])\n",
    "            expected.append(candRatio*count)\n",
    "\n",
    "        ##calculate the chi-square value\n",
    "        candChi = scipy.stats.chisquare(actual, expected)\n",
    "        \n",
    "        ## update the dictionary with each canidate's result\n",
    "        chiResults[cand] = candChi\n",
    "        \n",
    "    return chiResults"
   ]
  },
  {
   "cell_type": "code",
   "execution_count": 91,
   "metadata": {},
   "outputs": [],
   "source": [
    "## find similarities between tweeters and the whole corpus\n",
    "chiResults =  kilgariffMethod(DF)"
   ]
  },
  {
   "cell_type": "code",
   "execution_count": 92,
   "metadata": {},
   "outputs": [
    {
     "data": {
      "text/html": [
       "<div>\n",
       "<style scoped>\n",
       "    .dataframe tbody tr th:only-of-type {\n",
       "        vertical-align: middle;\n",
       "    }\n",
       "\n",
       "    .dataframe tbody tr th {\n",
       "        vertical-align: top;\n",
       "    }\n",
       "\n",
       "    .dataframe thead th {\n",
       "        text-align: right;\n",
       "    }\n",
       "</style>\n",
       "<table border=\"1\" class=\"dataframe\">\n",
       "  <thead>\n",
       "    <tr style=\"text-align: right;\">\n",
       "      <th></th>\n",
       "      <th>Distance</th>\n",
       "    </tr>\n",
       "  </thead>\n",
       "  <tbody>\n",
       "    <tr>\n",
       "      <th>Elizabeth Warren</th>\n",
       "      <td>2735.180148</td>\n",
       "    </tr>\n",
       "    <tr>\n",
       "      <th>Bernie Sanders</th>\n",
       "      <td>2644.500605</td>\n",
       "    </tr>\n",
       "    <tr>\n",
       "      <th>Amy Klobuchar</th>\n",
       "      <td>1807.093963</td>\n",
       "    </tr>\n",
       "    <tr>\n",
       "      <th>Tulsi Gabbard 🌺</th>\n",
       "      <td>1579.565244</td>\n",
       "    </tr>\n",
       "    <tr>\n",
       "      <th>Joe Biden</th>\n",
       "      <td>1483.695022</td>\n",
       "    </tr>\n",
       "    <tr>\n",
       "      <th>Pete Buttigieg</th>\n",
       "      <td>812.529200</td>\n",
       "    </tr>\n",
       "    <tr>\n",
       "      <th>Tom Steyer</th>\n",
       "      <td>723.644876</td>\n",
       "    </tr>\n",
       "  </tbody>\n",
       "</table>\n",
       "</div>"
      ],
      "text/plain": [
       "                     Distance\n",
       "Elizabeth Warren  2735.180148\n",
       "Bernie Sanders    2644.500605\n",
       "Amy Klobuchar     1807.093963\n",
       "Tulsi Gabbard 🌺   1579.565244\n",
       "Joe Biden         1483.695022\n",
       "Pete Buttigieg     812.529200\n",
       "Tom Steyer         723.644876"
      ]
     },
     "execution_count": 92,
     "metadata": {},
     "output_type": "execute_result"
    }
   ],
   "source": [
    "## clean print the results\n",
    "cleanPrint = pd.DataFrame(chiResults).T\n",
    "cleanPrint.columns = ['Distance', 'P-Value']\n",
    "cleanPrint.drop('P-Value', axis = 1, inplace = True)\n",
    "cleanPrint.sort_values('Distance', axis = 0, ascending = False)"
   ]
  },
  {
   "cell_type": "markdown",
   "metadata": {},
   "source": [
    "Adam Kilgariff, in a 2001 paper, proposed using the chi-squared statistic to detemrmine authorship. According to his method the 'statistic' measurement is a given author's 'distance' from the average useage of a comparison corpus--whether it is a collective corpus, an unknown writing sample, etc. Therefore, the author with a smallest 'statistic' uses the most commonly occuring words (in this case the top 50 words) at a similar rate to the comparison documents (François Dominic Laramée, 2018).\n",
    "\n",
    "Based on the results calculated above, stylitically, we can say that Tom Steyer and Pete Buttigieg have writing styles most similar to the collective whole while Elizabeth Warren and Bernie Sanders have writing styles that are very different from the rest of Democratic Presidential Candidates. Note, just because two canidates have a score close to each other does not mean that their writing styles are similiar, rather that their writing styles are equi-distant from the collective group average."
   ]
  },
  {
   "cell_type": "code",
   "execution_count": 93,
   "metadata": {},
   "outputs": [],
   "source": [
    "def kilgariffSpecial(train, test):\n",
    "    '''\n",
    "    A modified version of the previously explained Kilgariff Method\n",
    "    to take a train and test dataset and to predict the author of the\n",
    "    testing data. \n",
    "    Inputs: train (pandas DF), test (pandas DF)\n",
    "    Output: bestCand (str)\n",
    "    '''\n",
    "    #### get unknown corpus word count ####\n",
    "    ## instatiate a counter object to store the results\n",
    "    totalCount = Counter()\n",
    "\n",
    "    ## get the word count for each type in the corpus \n",
    "    ## and add that to the main counter object\n",
    "    for wDict in test['Tokens'].map(wordCounter):\n",
    "        totalCount += wDict\n",
    "\n",
    "    ## extract the most common 50 words\n",
    "    totalCommon = totalCount.most_common()[0:50] \n",
    "\n",
    "    ## store the results of the chi-square test\n",
    "    chiResults = {}\n",
    "\n",
    "    ## calculate the chi-square value for each candidate's\n",
    "    ## use of the top 100 words compared to the group norm\n",
    "    for cand in train['UserName'].unique():\n",
    "        ## instatiate a counter for each candidate\n",
    "        candCount = Counter()\n",
    "\n",
    "        ## generate the word count breakdown for each candidate\n",
    "        candDict = train[train['UserName'] == cand]['Tokens'].map(wordCounter)\n",
    "        for wDict in candDict:\n",
    "            candCount += wDict\n",
    "\n",
    "        ##calcuate the canidate's total word count\n",
    "        candTotal = sum(candCount.values())\n",
    "\n",
    "        ## calculate the chi-square parameters\n",
    "        actual = []      ## list to store the actual word useage\n",
    "        expected = []    ## list to store the expected word useage\n",
    "\n",
    "        ## calcuate the canidate's expected useage ratio\n",
    "        candRatio = candTotal / sum(totalCount.values())\n",
    "        for word, count in totalCommon:\n",
    "            actual.append(candCount[word])\n",
    "            expected.append(candRatio*count)\n",
    "\n",
    "        ##calculate the chi-square value\n",
    "        candChi = scipy.stats.chisquare(actual, expected)\n",
    "\n",
    "        ## update the results dictionary\n",
    "        chiResults[cand] = candChi\n",
    "        \n",
    "    ##### Assign Author #####\n",
    "    ## initialize variables for authorship detection\n",
    "    m = 500000          ## initialize chi-statistic\n",
    "    bestCand = None     ## \"best candidate\"\n",
    "    \n",
    "    ## for each candidate and result, find the candidate whose\n",
    "    ## style most closely matches that of the \"test\" tweets \n",
    "    for cand, result in chiResults.items():\n",
    "        if result[0] < m and cand != 'Test':\n",
    "            m = result[0]\n",
    "            bestCand = cand\n",
    "\n",
    "    return bestCand"
   ]
  },
  {
   "cell_type": "code",
   "execution_count": 94,
   "metadata": {},
   "outputs": [],
   "source": [
    "def kilgariffHelper(n, train, test):\n",
    "    '''\n",
    "    A helper function to evaluate the optimal number of tweets\n",
    "    required to accurately identify a candidate by their tweets.\n",
    "    Due to a limited number of tweets for some canidates in the \n",
    "    testing dataset, 10 bootstrap samples are used to generate\n",
    "    a sufficiently varied body of work for comparison.\n",
    "    Input: train (pandas DF), test (pandas DF), n (int)\n",
    "    Output: trueLabel (list), predLabel (list)\n",
    "    '''\n",
    "    ## initialize a dictionary to store algorithm results\n",
    "    trueLabel = []\n",
    "    predLabel = []\n",
    "\n",
    "    ## for each candidate, take ten bootstrap samples of 50 tweets\n",
    "    ## and pass those tweets to the kilgariff algorithm to assign\n",
    "    ## a predicted author. Record results \n",
    "    for cand in test['UserName'].unique():\n",
    "        for _ in range(0, 10):\n",
    "            candSample = test[test['UserName'] == cand].sample(n)\n",
    "            pred = kilgariffSpecial(train, candSample)\n",
    "            trueLabel.append(cand)\n",
    "            predLabel.append(pred)\n",
    "    \n",
    "    return trueLabel, predLabel"
   ]
  },
  {
   "cell_type": "code",
   "execution_count": 95,
   "metadata": {},
   "outputs": [],
   "source": [
    "#### Identify the Number of Tweets Required to Accurately \n",
    "#### Predict a Candidate (TAKES 10+ MINUTES TO RUN)\n",
    "## initialize a dictionary to store results\n",
    "# kResults = {}\n",
    "\n",
    "## run the Kilgariff Method for various number of unknown\n",
    "## tweets recording the predicted labels & updating the dictionary\n",
    "## accordingly\n",
    "# for i in [1, 5, 10, 25, 50, 75, 100]:\n",
    "#     ## Split Dataframe into training and testing\n",
    "#     trainDF, testDF = train_test_split(DF, test_size = .2)    \n",
    "#     iResults = kilgariffHelper(i, trainDF, testDF)\n",
    "#     print('Iteration Num: ', i)\n",
    "#     kResults[i] = iResults\n",
    "\n",
    "## save the results for later use\n",
    "# with open('kilgariffResults.pkl', 'wb') as file:\n",
    "#     pickle.dump(kResults, file)\n",
    "\n",
    "## load the previously recorded results\n",
    "kResults = pickle.load(open('kilgariffResults.pkl', 'rb'))"
   ]
  },
  {
   "cell_type": "code",
   "execution_count": 96,
   "metadata": {},
   "outputs": [],
   "source": [
    "## calcuate the F1-Score for each tweet-size iteration\n",
    "## recording this result\n",
    "fscores = []\n",
    "for result in kResults.values():\n",
    "    fscores.append(f1_score(result[0], result[1], average = 'macro'))"
   ]
  },
  {
   "cell_type": "code",
   "execution_count": 104,
   "metadata": {},
   "outputs": [
    {
     "data": {
      "image/png": "[encoded data removed]",
      "text/plain": [
       "<Figure size 864x576 with 1 Axes>"
      ]
     },
     "metadata": {
      "needs_background": "light"
     },
     "output_type": "display_data"
    }
   ],
   "source": [
    "## visualize the results\n",
    "## create the base plot\n",
    "fig, ax = plt.subplots(figsize = (12, 8))\n",
    "ax.plot(kResults.keys(), fscores, color = '#878787')\n",
    "## add an annotation/marker for the optimal value\n",
    "ax.plot(list(kResults.keys())[4], fscores[4], marker = 'X', \n",
    "        markersize = 15, color = 'blue')\n",
    "text = 'Optimal Balance\\nSample Size:  {}\\nF1-Score:  {:.3f}'.\\\n",
    "format(str(list(kResults.keys())[4]), fscores[4])\n",
    "ax.annotate(text, xy = (list(kResults.keys())[4], fscores[4]),\n",
    "           xytext = (list(kResults.keys())[4]+3, fscores[4]-.07),\n",
    "           fontsize = 12)\n",
    "## add an annotation/marker for the maximum performace\n",
    "ax.plot(list(kResults.keys())[5], fscores[5], marker = 'X', \n",
    "        markersize = 15, color = 'blue')\n",
    "text = 'Maximum Performance\\nSample Size:  {}\\nF1-Score:  {:.3f}'.\\\n",
    "format(str(list(kResults.keys())[5]), fscores[5])\n",
    "ax.annotate(text, xy = (list(kResults.keys())[5], fscores[5]),\n",
    "           xytext = (list(kResults.keys())[5]+2, fscores[5]-.11),\n",
    "           fontsize = 12)\n",
    "\n",
    "ax.set_title('Kilgariff Prediction Score by Tweet Count', loc = 'left', \n",
    "             fontsize = 16, fontweight = 'demi')\n",
    "ax.set_xlabel('Number of Tweets from Unknown Account', fontsize = 12)\n",
    "ax.set_xlim(0, 100)\n",
    "ax.set_ylabel('F1-Score', fontsize = 12)\n",
    "ax.set_ylim(0, 1.02)\n",
    "ax.spines['right'].set_visible(False)\n",
    "ax.spines['top'].set_visible(False)"
   ]
  },
  {
   "cell_type": "code",
   "execution_count": 105,
   "metadata": {},
   "outputs": [
    {
     "name": "stdout",
     "output_type": "stream",
     "text": [
      "                  precision    recall  f1-score   support\n",
      "\n",
      "   Amy Klobuchar       1.00      0.20      0.33        10\n",
      "  Bernie Sanders       1.00      0.90      0.95        10\n",
      "Elizabeth Warren       1.00      0.90      0.95        10\n",
      "       Joe Biden       1.00      0.60      0.75        10\n",
      "  Pete Buttigieg       1.00      1.00      1.00        10\n",
      "      Tom Steyer       1.00      1.00      1.00        10\n",
      " Tulsi Gabbard 🌺       0.42      1.00      0.59        10\n",
      "\n",
      "        accuracy                           0.80        70\n",
      "       macro avg       0.92      0.80      0.80        70\n",
      "    weighted avg       0.92      0.80      0.80        70\n",
      "\n"
     ]
    }
   ],
   "source": [
    "## View Detailed Results for Balanced Results\n",
    "print(clsr(kResults[50][0], kResults[50][1]))"
   ]
  },
  {
   "cell_type": "code",
   "execution_count": 107,
   "metadata": {},
   "outputs": [
    {
     "name": "stdout",
     "output_type": "stream",
     "text": [
      "                  precision    recall  f1-score   support\n",
      "\n",
      "   Amy Klobuchar       1.00      1.00      1.00        10\n",
      "  Bernie Sanders       1.00      1.00      1.00        10\n",
      "Elizabeth Warren       1.00      1.00      1.00        10\n",
      "       Joe Biden       1.00      1.00      1.00        10\n",
      "  Pete Buttigieg       1.00      0.90      0.95        10\n",
      "      Tom Steyer       1.00      1.00      1.00        10\n",
      " Tulsi Gabbard 🌺       0.91      1.00      0.95        10\n",
      "\n",
      "        accuracy                           0.99        70\n",
      "       macro avg       0.99      0.99      0.99        70\n",
      "    weighted avg       0.99      0.99      0.99        70\n",
      "\n"
     ]
    }
   ],
   "source": [
    "## View Detailed Results for Best Performance\n",
    "print(clsr(kResults[75][0], kResults[75][1]))"
   ]
  },
  {
   "cell_type": "markdown",
   "metadata": {},
   "source": [
    "This method shows a great deal of promise for authorship detection! Using just 75 tweets, an author could be detected from a field of seven candidates with greater than 99 percent accuracy. With just 50 tweets, the algorithm still runs well achieving nearly 80 percent accuracy. \n",
    "\n",
    "Specifically in related to this analysis, the model tended to over-attribute tweets to Tulsi Gabbard--something observed in the two cases printed above but was also observed during the construction of the algorithm as well. It seems that her writing style closely matches that of a few other candidates, especially Amy Klobuchar and Pete Buttigieg. "
   ]
  },
  {
   "cell_type": "markdown",
   "metadata": {},
   "source": [
    "## Citations\n",
    "François Dominic Laramée, \"Introduction to stylometry with Python,\" The Programming Historian 7 (2018), https://doi.org/10.46430/phen0078."
   ]
  }
 ],
 "metadata": {
  "kernelspec": {
   "display_name": "Python 3",
   "language": "python",
   "name": "python3"
  },
  "language_info": {
   "codemirror_mode": {
    "name": "ipython",
    "version": 3
   },
   "file_extension": ".py",
   "mimetype": "text/x-python",
   "name": "python",
   "nbconvert_exporter": "python",
   "pygments_lexer": "ipython3",
   "version": "3.7.9"
  }
 },
 "nbformat": 4,
 "nbformat_minor": 4
}
