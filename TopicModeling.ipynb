{
 "cells": [
  {
   "cell_type": "markdown",
   "metadata": {},
   "source": [
    "# Topic Modeling (Working Script)\n",
    "## Importing Packages and Pre-Processing"
   ]
  },
  {
   "cell_type": "code",
   "execution_count": 1,
   "metadata": {},
   "outputs": [],
   "source": [
    "import pandas as pd\n",
    "import spacy\n",
    "from gensim import corpora, models, similarities\n",
    "from gensim.models import CoherenceModel, HdpModel\n",
    "from gensim.models.nmf import Nmf\n",
    "import pyLDAvis.gensim\n",
    "import numpy as np\n",
    "import matplotlib.pyplot as plt\n",
    "import matplotlib.cm as cm\n",
    "%matplotlib inline\n",
    "import seaborn as sns\n",
    "from wordcloud import WordCloud"
   ]
  },
  {
   "cell_type": "code",
   "execution_count": 2,
   "metadata": {},
   "outputs": [
    {
     "data": {
      "text/html": [
       "<div>\n",
       "<style scoped>\n",
       "    .dataframe tbody tr th:only-of-type {\n",
       "        vertical-align: middle;\n",
       "    }\n",
       "\n",
       "    .dataframe tbody tr th {\n",
       "        vertical-align: top;\n",
       "    }\n",
       "\n",
       "    .dataframe thead th {\n",
       "        text-align: right;\n",
       "    }\n",
       "</style>\n",
       "<table border=\"1\" class=\"dataframe\">\n",
       "  <thead>\n",
       "    <tr style=\"text-align: right;\">\n",
       "      <th></th>\n",
       "      <th>Datetime</th>\n",
       "      <th>TweetID</th>\n",
       "      <th>FullText</th>\n",
       "      <th>UserName</th>\n",
       "      <th>Lang</th>\n",
       "    </tr>\n",
       "  </thead>\n",
       "  <tbody>\n",
       "    <tr>\n",
       "      <th>0</th>\n",
       "      <td>2020-03-02 01:07:24+00:00</td>\n",
       "      <td>1234284135386095616</td>\n",
       "      <td>John Lewis leading marchers across the Edmund ...</td>\n",
       "      <td>Amy Klobuchar</td>\n",
       "      <td>en</td>\n",
       "    </tr>\n",
       "    <tr>\n",
       "      <th>1</th>\n",
       "      <td>2020-03-02 00:56:17+00:00</td>\n",
       "      <td>1234281337776955392</td>\n",
       "      <td>Pete Buttigieg has run an inspiring and histor...</td>\n",
       "      <td>Amy Klobuchar</td>\n",
       "      <td>en</td>\n",
       "    </tr>\n",
       "    <tr>\n",
       "      <th>2</th>\n",
       "      <td>2020-03-02 00:28:06+00:00</td>\n",
       "      <td>1234274246500720640</td>\n",
       "      <td>Today, we walked hand-in-hand across the Edmun...</td>\n",
       "      <td>Amy Klobuchar</td>\n",
       "      <td>en</td>\n",
       "    </tr>\n",
       "    <tr>\n",
       "      <th>3</th>\n",
       "      <td>2020-03-01 20:01:05+00:00</td>\n",
       "      <td>1234207050034491392</td>\n",
       "      <td>One way we can make sure kids get a good start...</td>\n",
       "      <td>Amy Klobuchar</td>\n",
       "      <td>en</td>\n",
       "    </tr>\n",
       "    <tr>\n",
       "      <th>4</th>\n",
       "      <td>2020-03-01 17:30:05+00:00</td>\n",
       "      <td>1234169049573134337</td>\n",
       "      <td>13 newspapers, from coast to coast and north t...</td>\n",
       "      <td>Amy Klobuchar</td>\n",
       "      <td>en</td>\n",
       "    </tr>\n",
       "  </tbody>\n",
       "</table>\n",
       "</div>"
      ],
      "text/plain": [
       "                    Datetime              TweetID  \\\n",
       "0  2020-03-02 01:07:24+00:00  1234284135386095616   \n",
       "1  2020-03-02 00:56:17+00:00  1234281337776955392   \n",
       "2  2020-03-02 00:28:06+00:00  1234274246500720640   \n",
       "3  2020-03-01 20:01:05+00:00  1234207050034491392   \n",
       "4  2020-03-01 17:30:05+00:00  1234169049573134337   \n",
       "\n",
       "                                            FullText       UserName Lang  \n",
       "0  John Lewis leading marchers across the Edmund ...  Amy Klobuchar   en  \n",
       "1  Pete Buttigieg has run an inspiring and histor...  Amy Klobuchar   en  \n",
       "2  Today, we walked hand-in-hand across the Edmun...  Amy Klobuchar   en  \n",
       "3  One way we can make sure kids get a good start...  Amy Klobuchar   en  \n",
       "4  13 newspapers, from coast to coast and north t...  Amy Klobuchar   en  "
      ]
     },
     "execution_count": 2,
     "metadata": {},
     "output_type": "execute_result"
    }
   ],
   "source": [
    "# Loading cleaned version of the data set\n",
    "DF = pd.read_csv('Data/CleanedTweets.csv')\n",
    "\n",
    "DF.head()"
   ]
  },
  {
   "cell_type": "code",
   "execution_count": 3,
   "metadata": {},
   "outputs": [],
   "source": [
    "# Loading spacy\n",
    "nlp = spacy.load(\"en_core_web_sm\", parser = False)\n",
    "\n",
    "## load the current list of prefixes & remove # from the list \n",
    "## (keep hastags in tact)\n",
    "prefixes = list(nlp.Defaults.prefixes)\n",
    "prefixes.remove('#')\n",
    "\n",
    "## recompile a new prefix regex with the smaller list of prefixes\n",
    "prefix_regex = spacy.util.compile_prefix_regex(prefixes)\n",
    "## set the tokenizer prefix_search to use the search of the newly compiled regex\n",
    "nlp.tokenizer.prefix_search = prefix_regex.search"
   ]
  },
  {
   "cell_type": "code",
   "execution_count": 4,
   "metadata": {},
   "outputs": [],
   "source": [
    "# Defining function that will remove unwanted tokens. It is a bit different from\n",
    "# the function used in authorship detection, since we want to remove stop words\n",
    "# but keep hashtags and mentions\n",
    "# (stop words can be useful to identify authors, but will clutter up the topics)\n",
    "\n",
    "def keepChars(tweet):\n",
    "    '''\n",
    "    Cleans an invididual tweet by removing non-character features, any url link, \n",
    "    etc. Designed to be used with a map function.\n",
    "    Input: tweet (list of tokens)\n",
    "    Output: charTweet (list of tokens)\n",
    "    '''\n",
    "    ## initialize a list to store the characters only\n",
    "    charTweet = []\n",
    "    \n",
    "    for token in tweet:\n",
    "        ## remove token if it contains a url link\n",
    "        if 'http' in token.text:\n",
    "            continue\n",
    "        \n",
    "        ## remove token if it is 'amp'\n",
    "        if token.text == 'amp':\n",
    "            continue\n",
    "        \n",
    "        ## remove token if it is punctuation, stop word, or space\n",
    "        if token.is_punct or token.is_stop or token.is_space:\n",
    "            continue\n",
    "        \n",
    "        ## remove token if it is less than one character long\n",
    "        elif len(token.text) < 2:\n",
    "            continue\n",
    "        \n",
    "        ## append the new lemmatized and lowered token to the character only token list\n",
    "        else:\n",
    "            charTweet.append(token.lemma_.lower())\n",
    "        \n",
    "    return charTweet"
   ]
  },
  {
   "cell_type": "code",
   "execution_count": 5,
   "metadata": {},
   "outputs": [
    {
     "data": {
      "text/html": [
       "<div>\n",
       "<style scoped>\n",
       "    .dataframe tbody tr th:only-of-type {\n",
       "        vertical-align: middle;\n",
       "    }\n",
       "\n",
       "    .dataframe tbody tr th {\n",
       "        vertical-align: top;\n",
       "    }\n",
       "\n",
       "    .dataframe thead th {\n",
       "        text-align: right;\n",
       "    }\n",
       "</style>\n",
       "<table border=\"1\" class=\"dataframe\">\n",
       "  <thead>\n",
       "    <tr style=\"text-align: right;\">\n",
       "      <th></th>\n",
       "      <th>Datetime</th>\n",
       "      <th>TweetID</th>\n",
       "      <th>FullText</th>\n",
       "      <th>UserName</th>\n",
       "      <th>Lang</th>\n",
       "      <th>Tokens</th>\n",
       "      <th>TextOnly</th>\n",
       "    </tr>\n",
       "  </thead>\n",
       "  <tbody>\n",
       "    <tr>\n",
       "      <th>0</th>\n",
       "      <td>2020-03-02 01:07:24+00:00</td>\n",
       "      <td>1234284135386095616</td>\n",
       "      <td>John Lewis leading marchers across the Edmund ...</td>\n",
       "      <td>Amy Klobuchar</td>\n",
       "      <td>en</td>\n",
       "      <td>(John, Lewis, leading, marchers, across, the, ...</td>\n",
       "      <td>[john, lewis, lead, marcher, edmund, pettus, b...</td>\n",
       "    </tr>\n",
       "    <tr>\n",
       "      <th>1</th>\n",
       "      <td>2020-03-02 00:56:17+00:00</td>\n",
       "      <td>1234281337776955392</td>\n",
       "      <td>Pete Buttigieg has run an inspiring and histor...</td>\n",
       "      <td>Amy Klobuchar</td>\n",
       "      <td>en</td>\n",
       "      <td>(Pete, Buttigieg, has, run, an, inspiring, and...</td>\n",
       "      <td>[pete, buttigieg, run, inspire, historic, camp...</td>\n",
       "    </tr>\n",
       "    <tr>\n",
       "      <th>2</th>\n",
       "      <td>2020-03-02 00:28:06+00:00</td>\n",
       "      <td>1234274246500720640</td>\n",
       "      <td>Today, we walked hand-in-hand across the Edmun...</td>\n",
       "      <td>Amy Klobuchar</td>\n",
       "      <td>en</td>\n",
       "      <td>(Today, ,, we, walked, hand, -, in, -, hand, a...</td>\n",
       "      <td>[today, walk, hand, hand, edmund, pettus, brid...</td>\n",
       "    </tr>\n",
       "    <tr>\n",
       "      <th>3</th>\n",
       "      <td>2020-03-01 20:01:05+00:00</td>\n",
       "      <td>1234207050034491392</td>\n",
       "      <td>One way we can make sure kids get a good start...</td>\n",
       "      <td>Amy Klobuchar</td>\n",
       "      <td>en</td>\n",
       "      <td>(One, way, we, can, make, sure, kids, get, a, ...</td>\n",
       "      <td>[way, sure, kid, good, start, roof, head, stab...</td>\n",
       "    </tr>\n",
       "    <tr>\n",
       "      <th>4</th>\n",
       "      <td>2020-03-01 17:30:05+00:00</td>\n",
       "      <td>1234169049573134337</td>\n",
       "      <td>13 newspapers, from coast to coast and north t...</td>\n",
       "      <td>Amy Klobuchar</td>\n",
       "      <td>en</td>\n",
       "      <td>(13, newspapers, ,, from, coast, to, coast, an...</td>\n",
       "      <td>[13, newspaper, coast, coast, north, south, en...</td>\n",
       "    </tr>\n",
       "  </tbody>\n",
       "</table>\n",
       "</div>"
      ],
      "text/plain": [
       "                    Datetime              TweetID  \\\n",
       "0  2020-03-02 01:07:24+00:00  1234284135386095616   \n",
       "1  2020-03-02 00:56:17+00:00  1234281337776955392   \n",
       "2  2020-03-02 00:28:06+00:00  1234274246500720640   \n",
       "3  2020-03-01 20:01:05+00:00  1234207050034491392   \n",
       "4  2020-03-01 17:30:05+00:00  1234169049573134337   \n",
       "\n",
       "                                            FullText       UserName Lang  \\\n",
       "0  John Lewis leading marchers across the Edmund ...  Amy Klobuchar   en   \n",
       "1  Pete Buttigieg has run an inspiring and histor...  Amy Klobuchar   en   \n",
       "2  Today, we walked hand-in-hand across the Edmun...  Amy Klobuchar   en   \n",
       "3  One way we can make sure kids get a good start...  Amy Klobuchar   en   \n",
       "4  13 newspapers, from coast to coast and north t...  Amy Klobuchar   en   \n",
       "\n",
       "                                              Tokens  \\\n",
       "0  (John, Lewis, leading, marchers, across, the, ...   \n",
       "1  (Pete, Buttigieg, has, run, an, inspiring, and...   \n",
       "2  (Today, ,, we, walked, hand, -, in, -, hand, a...   \n",
       "3  (One, way, we, can, make, sure, kids, get, a, ...   \n",
       "4  (13, newspapers, ,, from, coast, to, coast, an...   \n",
       "\n",
       "                                            TextOnly  \n",
       "0  [john, lewis, lead, marcher, edmund, pettus, b...  \n",
       "1  [pete, buttigieg, run, inspire, historic, camp...  \n",
       "2  [today, walk, hand, hand, edmund, pettus, brid...  \n",
       "3  [way, sure, kid, good, start, roof, head, stab...  \n",
       "4  [13, newspaper, coast, coast, north, south, en...  "
      ]
     },
     "execution_count": 5,
     "metadata": {},
     "output_type": "execute_result"
    }
   ],
   "source": [
    "## tokenize every tweet in the dataframe & adding a new column in the process\n",
    "DF['Tokens'] = DF['FullText'].apply(lambda x: nlp.tokenizer(x))\n",
    "DF['TextOnly'] = DF['Tokens'].map(keepChars)\n",
    "\n",
    "DF.head()"
   ]
  },
  {
   "cell_type": "markdown",
   "metadata": {},
   "source": [
    "## LDA"
   ]
  },
  {
   "cell_type": "code",
   "execution_count": 7,
   "metadata": {},
   "outputs": [],
   "source": [
    "# Changing pandas series to list of lists for gensim LDA\n",
    "texts = list(DF['TextOnly'])\n",
    "\n",
    "# Create the dictionary\n",
    "dictionary = corpora.Dictionary(texts)\n",
    "\n",
    "# Gensim LDA stores all the text for processing into a corpus object. \n",
    "# All text is filtered through the previously constructed dictionary.\n",
    "corpus = [dictionary.doc2bow(text) for text in texts]"
   ]
  },
  {
   "cell_type": "code",
   "execution_count": 8,
   "metadata": {},
   "outputs": [],
   "source": [
    "# For this first example, I'm going to choose 8 topics to see how it's working,\n",
    "# even though that may not be the best choice.\n",
    "total_topics = 8\n",
    "\n",
    "# Experiment with the alpha assingment to investigate alpha parameter settings on topic assignments\n",
    "#lda_alpha = 'auto' #learns asymmetic prior from the corpus\n",
    "lda_alpha = 'symmetric'\n",
    "#lda_alpha = 'asymmetric'  # sets alpha = 1 / number_of_topics\n",
    "\n",
    "lda1 = models.LdaModel(corpus,\n",
    "                       id2word = dictionary,\n",
    "                       num_topics = total_topics,\n",
    "                       iterations = 1000,\n",
    "                       alpha=lda_alpha,\n",
    "                       random_state=1)"
   ]
  },
  {
   "cell_type": "code",
   "execution_count": 9,
   "metadata": {},
   "outputs": [
    {
     "name": "stdout",
     "output_type": "stream",
     "text": [
      "Topic 0\n",
      "0.019*\"debate\" + 0.018*\"help\" + 0.014*\"day\" + 0.013*\"tulsi\" + 0.013*\"thank\" + 0.012*\"donor\" + 0.010*\"let\" + 0.010*\"tonight\" + 0.009*\"need\" + 0.009*\"donate\"\n",
      "\n",
      "Topic 1\n",
      "0.038*\"trump\" + 0.024*\"american\" + 0.020*\"president\" + 0.019*\"war\" + 0.014*\"donald\" + 0.011*\"people\" + 0.011*\"end\" + 0.008*\"need\" + 0.008*\"policy\" + 0.008*\"care\"\n",
      "\n",
      "Topic 2\n",
      "0.016*\"thank\" + 0.013*\"work\" + 0.012*\"stand\" + 0.012*\"fight\" + 0.011*\"worker\" + 0.010*\"family\" + 0.009*\"service\" + 0.009*\"support\" + 0.009*\"wage\" + 0.009*\"country\"\n",
      "\n",
      "Topic 3\n",
      "0.030*\"war\" + 0.024*\"#tulsi2020\" + 0.021*\"new\" + 0.012*\"troop\" + 0.009*\"right\" + 0.009*\"american\" + 0.009*\"iraq\" + 0.008*\"military\" + 0.007*\"iran\" + 0.007*\"protect\"\n",
      "\n",
      "Topic 4\n",
      "0.017*\"country\" + 0.012*\"people\" + 0.011*\"work\" + 0.010*\"president\" + 0.010*\"need\" + 0.009*\"world\" + 0.009*\"america\" + 0.007*\"well\" + 0.007*\"year\" + 0.007*\"government\"\n",
      "\n",
      "Topic 5\n",
      "0.023*\"people\" + 0.016*\"tulsi\" + 0.015*\"american\" + 0.015*\"#tulsi2020\" + 0.014*\"live\" + 0.012*\"country\" + 0.012*\"president\" + 0.010*\"trump\" + 0.010*\"gabbard\" + 0.008*\"fight\"\n",
      "\n",
      "Topic 6\n",
      "0.027*\"climate\" + 0.022*\"change\" + 0.012*\"need\" + 0.012*\"crisis\" + 0.009*\"future\" + 0.009*\"people\" + 0.008*\"country\" + 0.008*\"world\" + 0.007*\"love\" + 0.007*\"president\"\n",
      "\n",
      "Topic 7\n",
      "0.016*\"corporate\" + 0.012*\"people\" + 0.011*\"want\" + 0.009*\"fuel\" + 0.009*\"vote\" + 0.008*\"candidate\" + 0.008*\"election\" + 0.008*\"democracy\" + 0.008*\"president\" + 0.006*\"fossil\"\n",
      "\n"
     ]
    }
   ],
   "source": [
    "#Show first n=10 important words in the topics:\n",
    "topics = lda1.show_topics(total_topics, 10)\n",
    "\n",
    "for topic in topics:\n",
    "    topic_num = topic[0]\n",
    "    topic_tokens = topic[1]\n",
    "    print(f'Topic {topic_num}')\n",
    "    print(f'{topic_tokens}\\n')"
   ]
  },
  {
   "cell_type": "markdown",
   "metadata": {},
   "source": [
    "From the above lists of words, we see some topics forming like:\n",
    "\n",
    "    3. War in the Middle East\n",
    "    5. Tulsi Gabbard\n",
    "    6. Climate change\n",
    "\n",
    "However, other topics are harder to discern and use a lot of general political words like \"people\", \"country\", \"american\", and \"president\".\n",
    "I'm going to remove those and then try different numbers of topics."
   ]
  },
  {
   "cell_type": "code",
   "execution_count": 10,
   "metadata": {},
   "outputs": [],
   "source": [
    "# Removing some general political words\n",
    "remove_list = [\"people\", \"country\", \"american\", \"america\", \"president\", \"thank\"]\n",
    "texts_rm = [[token for token in tweet if token not in remove_list] for tweet in texts] \n",
    "\n",
    "# Create dictionary\n",
    "dictionary_rm = corpora.Dictionary(texts_rm)\n",
    "\n",
    "# Gensim LDA stores all the text for processing into a corpus object. \n",
    "# All text is filtered through the previously constructed dictionary.\n",
    "corpus_rm = [dictionary_rm.doc2bow(text) for text in texts_rm]"
   ]
  },
  {
   "cell_type": "code",
   "execution_count": 11,
   "metadata": {},
   "outputs": [
    {
     "name": "stdout",
     "output_type": "stream",
     "text": [
      "Computing the lda model using 5 topics and auto alpha.\n",
      "Computing the lda model using 5 topics and symmetric alpha.\n",
      "Computing the lda model using 5 topics and asymmetric alpha.\n",
      "Computing the lda model using 6 topics and auto alpha.\n",
      "Computing the lda model using 6 topics and symmetric alpha.\n",
      "Computing the lda model using 6 topics and asymmetric alpha.\n",
      "Computing the lda model using 7 topics and auto alpha.\n",
      "Computing the lda model using 7 topics and symmetric alpha.\n",
      "Computing the lda model using 7 topics and asymmetric alpha.\n",
      "Computing the lda model using 8 topics and auto alpha.\n",
      "Computing the lda model using 8 topics and symmetric alpha.\n",
      "Computing the lda model using 8 topics and asymmetric alpha.\n",
      "Computing the lda model using 9 topics and auto alpha.\n",
      "Computing the lda model using 9 topics and symmetric alpha.\n",
      "Computing the lda model using 9 topics and asymmetric alpha.\n",
      "Computing the lda model using 10 topics and auto alpha.\n",
      "Computing the lda model using 10 topics and symmetric alpha.\n",
      "Computing the lda model using 10 topics and asymmetric alpha.\n",
      "Computing the lda model using 11 topics and auto alpha.\n",
      "Computing the lda model using 11 topics and symmetric alpha.\n",
      "Computing the lda model using 11 topics and asymmetric alpha.\n",
      "Computing the lda model using 12 topics and auto alpha.\n",
      "Computing the lda model using 12 topics and symmetric alpha.\n",
      "Computing the lda model using 12 topics and asymmetric alpha.\n",
      "Computing the lda model using 13 topics and auto alpha.\n",
      "Computing the lda model using 13 topics and symmetric alpha.\n",
      "Computing the lda model using 13 topics and asymmetric alpha.\n",
      "Computing the lda model using 14 topics and auto alpha.\n",
      "Computing the lda model using 14 topics and symmetric alpha.\n",
      "Computing the lda model using 14 topics and asymmetric alpha.\n",
      "Computing the lda model using 15 topics and auto alpha.\n",
      "Computing the lda model using 15 topics and symmetric alpha.\n",
      "Computing the lda model using 15 topics and asymmetric alpha.\n",
      "Computing the lda model using 16 topics and auto alpha.\n",
      "Computing the lda model using 16 topics and symmetric alpha.\n",
      "Computing the lda model using 16 topics and asymmetric alpha.\n",
      "Computing the lda model using 17 topics and auto alpha.\n",
      "Computing the lda model using 17 topics and symmetric alpha.\n",
      "Computing the lda model using 17 topics and asymmetric alpha.\n",
      "Computing the lda model using 18 topics and auto alpha.\n",
      "Computing the lda model using 18 topics and symmetric alpha.\n",
      "Computing the lda model using 18 topics and asymmetric alpha.\n",
      "Computing the lda model using 19 topics and auto alpha.\n",
      "Computing the lda model using 19 topics and symmetric alpha.\n",
      "Computing the lda model using 19 topics and asymmetric alpha.\n",
      "Computing the lda model using 20 topics and auto alpha.\n",
      "Computing the lda model using 20 topics and symmetric alpha.\n",
      "Computing the lda model using 20 topics and asymmetric alpha.\n"
     ]
    }
   ],
   "source": [
    "# Tuning hyperparameters (number of topics, alpha):\n",
    "# Looking for the model with minimum perplexity and maximium topic coherence.\n",
    "\n",
    "### This takes a while to run!\n",
    "\n",
    "perplexity_lda = []\n",
    "coherence_lda = []\n",
    "topic_count_lda = []\n",
    "alpha_options = ['auto', 'symmetric', 'asymmetric']\n",
    "alpha_option_lda = []\n",
    "\n",
    "for num_topics in range(5, 21, 1):\n",
    "    for lda_alpha in alpha_options:\n",
    "\n",
    "        print(f\"Computing the lda model using {num_topics} topics and {lda_alpha} alpha.\")\n",
    "\n",
    "        topic_lda = models.LdaModel(corpus_rm,\n",
    "                                    id2word = dictionary_rm,\n",
    "                                    num_topics = num_topics,\n",
    "                                    iterations = 1000,\n",
    "                                    alpha = lda_alpha,\n",
    "                                    random_state=1)\n",
    "\n",
    "        topic_count_lda.append(num_topics)\n",
    "        \n",
    "        alpha_option_lda.append(lda_alpha)\n",
    "\n",
    "        # a measure of how good the model is. lower the better.\n",
    "        perplexity_lda.append(topic_lda.log_perplexity(corpus_rm))\n",
    "\n",
    "        # Compute Coherence Score\n",
    "        cm = CoherenceModel(model=topic_lda, corpus=corpus_rm, dictionary=dictionary_rm, coherence='u_mass')\n",
    "        coherence_lda.append(cm.get_coherence())"
   ]
  },
  {
   "cell_type": "code",
   "execution_count": 12,
   "metadata": {},
   "outputs": [],
   "source": [
    "### Creating a dataframe to plot perplexity and coherence\n",
    "\n",
    "# Create a list that combines the number of topics with the alpha option\n",
    "model_type = [i+', '+j for i, j in zip([str(k) for k in topic_count_lda], [m[0:4] for m in alpha_option_lda])] \n",
    "\n",
    "# Pull the resulting data into a pandas dataframe\n",
    "topics_lda = pd.DataFrame({'num_topics':topic_count_lda,\n",
    "                           'alpha':alpha_option_lda,\n",
    "                           'perplexity': perplexity_lda,\n",
    "                           'coherence': coherence_lda,\n",
    "                          'model_type': model_type}\n",
    "                         )"
   ]
  },
  {
   "cell_type": "code",
   "execution_count": 13,
   "metadata": {
    "scrolled": false
   },
   "outputs": [
    {
     "data": {
      "image/png": "[encoded data removed]",
      "text/plain": [
       "<Figure size 1440x720 with 2 Axes>"
      ]
     },
     "metadata": {
      "needs_background": "light"
     },
     "output_type": "display_data"
    }
   ],
   "source": [
    "# Graphing perplexity and topic coherence for every model type\n",
    "topics_lda.plot.line(x='model_type', y=['perplexity', 'coherence'],\n",
    "                             marker='.', subplots = True, figsize=(20,10))\n",
    "plt.xticks(range(len(topics_lda.model_type)), topics_lda.model_type)\n",
    "plt.show()"
   ]
  },
  {
   "cell_type": "markdown",
   "metadata": {},
   "source": [
    "From the above plot, we can see that perplexity and coherence both decrease as the number of topics increases. We want a low perplexity but a high coherence, so we will have to balance the two.\n",
    "\n",
    "Here are three models that we will investigate further:\n",
    "\n",
    "1. Model with `num_topics = 6` and `alpha = symmetric` (highest topic coherence, but high perplexity)\n",
    "2. Model with `num_topics = 10` and `alpha = symmetric` (higher coherence than surrounding models, slightly lower perplexity)\n",
    "3. Model with `num_topics = 17` and `alpha = auto` (higher coherence than surroundng models, fairly low perplexity)\n",
    "\n",
    "After looking over the top 25 words for each model, we will (subjectively) choose which seemed the best."
   ]
  },
  {
   "cell_type": "code",
   "execution_count": 14,
   "metadata": {},
   "outputs": [
    {
     "name": "stdout",
     "output_type": "stream",
     "text": [
      "Topic 0\n",
      "['right', 'year', 'fight', 'policy', 'justice', 'today', 'act', 'stand', 'work', 'trump', 'serve', 'system', 'need', 'criminal', 'freedom', 'administration', 'government', 'day', 'plan', 'woman', 'climate', 'deserve', 'human', 'crisis', 'protect']\n",
      "\n",
      "Topic 1\n",
      "['time', 'help', 'debate', 'need', 'donor', 'love', 'gun', 'race', 'interest', '--&gt', 'end', 'campaign', '#demdebate', 'donate', 'chip', 'arm', 'reach', '#tulsi2020', 'power', 'movement', 'let', 'stand', 'live', 'politician', 'work']\n",
      "\n",
      "Topic 2\n",
      "['war', 'care', 'need', 'health', 'end', '#tulsi2020', '#demdebate', 'change', 'live', 'know', 'corporate', 'future', 'plan', 'fight', 'want', 'world', 'come', 'today', 'day', 'trump', 'climate', 'peace', 'family', 'planet', 'believe']\n",
      "\n",
      "Topic 3\n",
      "['new', 'climate', 'change', 'need', 'day', 'big', 'work', 'join', 'let', 'great', 'hampshire', 'iowa', 'win', 'help', 'today', 'build', 'go', 'crisis', 'hall', 'town', 'waste', 'come', 'cold', 'state', 'support']\n",
      "\n",
      "Topic 4\n",
      "['trump', 'war', 'donald', 'stand', 'nuclear', 'work', 'troop', 'well', 'iran', 'worker', 'need', 'foreign', 'like', 'know', 'fight', '#demdebate', 'regime', 'thing', 'right', 'tulsi', 'corruption', 'iraq', 'policy', 'time', 'saudi']\n",
      "\n",
      "Topic 5\n",
      "['tulsi', '#tulsi2020', 'live', 'gabbard', 'family', '#tulsigabbard', 'work', 'community', 'love', '#tulsi', 'road', 'support', 'serve', 'need', 'join', 'public', 'service', 'fight', 'friend', 'today', 'nation', 'safe', 'sister', 'school', 'leader']\n",
      "\n"
     ]
    }
   ],
   "source": [
    "# Model 1: 6 topics, symmetric alpha\n",
    "\n",
    "total_topics = 6\n",
    "lda_alpha = 'symmetric'\n",
    "\n",
    "lda1 = models.LdaModel(corpus_rm,\n",
    "                       id2word = dictionary_rm,\n",
    "                       num_topics = total_topics,\n",
    "                       iterations = 1000,\n",
    "                       alpha = lda_alpha,\n",
    "                       random_state = 1)\n",
    "\n",
    "\n",
    "## Uncomment for fancy viz, but the topic numbers do not match lda.show_topics() \n",
    "#pyLDAvis.enable_notebook()\n",
    "#panel = pyLDAvis.gensim.prepare(lda1, corpus_rm, dictionary_rm, mds='tsne')\n",
    "#panel\n",
    "\n",
    "\n",
    "#Show first n=25 important words in the topics:\n",
    "topics = lda1.show_topics(total_topics, 25, formatted=False)\n",
    "\n",
    "\n",
    "for index, topic in topics:\n",
    "    tokens = [w[0] for w in topic]\n",
    "    print(f'Topic {index}\\n{tokens}\\n')"
   ]
  },
  {
   "cell_type": "markdown",
   "metadata": {},
   "source": [
    "Here's my generalizations of the LDA Model 1 topics:\n",
    "- Topic 0: Human Rights - Criminal Justice - Climate Change\n",
    "- Topic 1: Donate - Debate\n",
    "- Topic 2: War - Health Care - Climate Change\n",
    "- Topic 3: Climate Change - Campaigning in Iowa and New Hampshire\n",
    "- Topic 4: War in Iran/Iraq\n",
    "- Topic 5: Tulsi Gabbard\n",
    "\n",
    "This model doesn't seem great, since multiple Topics (selected by the model) had a range of topics (identified by me). Additionally, 'climate change' showed up in three of the Topics."
   ]
  },
  {
   "cell_type": "code",
   "execution_count": 15,
   "metadata": {},
   "outputs": [
    {
     "name": "stdout",
     "output_type": "stream",
     "text": [
      "Topic 0\n",
      "['right', 'regime', 'fight', 'stand', 'trump', 'year', 'corruption', 'human', 'justice', 'policy', 'criminal', 'need', 'today', 'profit', 'immigration', 'power', 'plan', 'system', 'work', 'administration', 'woman', '#demdebate', 'celebrate', 'deserve', 'protect']\n",
      "\n",
      "Topic 1\n",
      "['time', 'need', 'peace', 'live', 'wealth', 'powerful', 'nation', 'stand', 'color', 'work', 'call', 'interest', 'new', 'end', 'wage', 'politician', 'let', 'support', 'century', 'help', 'racism', 'matt', 'hour', 'respect', 'community']\n",
      "\n",
      "Topic 2\n",
      "['need', 'care', 'health', 'war', 'end', 'know', '#demdebate', 'climate', 'trump', 'plan', 'iran', 'change', 'power', 'live', 'believe', 'crisis', 'action', 'like', 'world', 'planet', 'day', 'emergency', 'thing', 'year', 'time']\n",
      "\n",
      "Topic 3\n",
      "['change', 'climate', 'need', 'work', 'war', 'crisis', 'new', 'big', 'build', 'go', 'support', 'house', 'grateful', 'white', 'trump', 'issue', 'waste', 'community', 'healthcare', 'future', 'leader', 'day', 'party', 'run', 'talk']\n",
      "\n",
      "Topic 4\n",
      "['trump', 'war', 'donald', 'well', 'nuclear', 'troop', 'worker', 'pay', 'stand', 'work', 'fight', 'like', 'deserve', 'fair', 'iraq', 'wage', 'need', 'job', 'want', 'right', '#demdebate', 'economy', 'know', 'value', 'corporation']\n",
      "\n",
      "Topic 5\n",
      "['family', 'service', 'work', 'child', 'serve', 'school', 'public', 'education', 'veteran', 'fight', 'trump', 'live', 'need', 'community', 'proud', 'free', 'support', 'deserve', 'nation', 'liberty', 'go', 'student', 'high', 'teacher', 'quality']\n",
      "\n",
      "Topic 6\n",
      "['gun', 'year', 'violence', 'foreign', 'today', 'commander', 'south', 'vote', 'chief', 'act', 'election', 'carolina', 'ago', 'end', 'voter', 'live', 'war', 'bill', 'interest', 'safety', 'trump', 'national', 'pass', 'time', 'congress']\n",
      "\n",
      "Topic 7\n",
      "['work', 'saudi', 'fight', 'live', 'world', 'today', 'freedom', 'puerto', 'government', 'join', 'party', 'justice', 'china', 'continue', 'trump', 'rico', 'black', 'leader', 'support', 'policy', 'love', 'community', 'putt', 'arabia', 'democratic']\n",
      "\n",
      "Topic 8\n",
      "['love', 'new', 'come', 'arm', 'day', 'thanks', 'today', 'al', 'good', 'debate', 'happy', 'look', 'cold', '9/11', 'morning', 'hampshire', 'hear', 'great', 'hope', 'forward', 'support', 'aloha', 'sister', 'amaze', 'voice']\n",
      "\n",
      "Topic 9\n",
      "['tulsi', '#tulsi2020', 'live', 'road', 'help', 'campaign', 'join', 'donor', 'debate', 'donate', 'day', 'gabbard', 'hall', 'town', '#tulsigabbard', 'new', 'let', 'chip', 'corporate', '#tulsi', 'iowa', 'meet', 'message', 'time', 'way']\n",
      "\n"
     ]
    }
   ],
   "source": [
    "# Model 2: 10 topics, symmetric alpha\n",
    "\n",
    "total_topics = 10\n",
    "lda_alpha = 'symmetric'\n",
    "\n",
    "lda2 = models.LdaModel(corpus_rm,\n",
    "                       id2word = dictionary_rm,\n",
    "                       num_topics = total_topics,\n",
    "                       iterations = 1000,\n",
    "                       alpha = lda_alpha,\n",
    "                       random_state = 1)\n",
    "\n",
    "## Uncomment for fancy viz, but the topic numbers do not match lda.show_topics() \n",
    "#pyLDAvis.enable_notebook()\n",
    "#panel = pyLDAvis.gensim.prepare(lda1, corpus_rm, dictionary_rm, mds='tsne')\n",
    "#panel\n",
    "\n",
    "\n",
    "#Show first n=25 important words in the topics:\n",
    "topics = lda2.show_topics(total_topics, 25, formatted=False)\n",
    "\n",
    "\n",
    "for index, topic in topics:\n",
    "    tokens = [w[0] for w in topic]\n",
    "    print(f'Topic {index}\\n{tokens}\\n')"
   ]
  },
  {
   "cell_type": "markdown",
   "metadata": {},
   "source": [
    "Here's my generalizations of the LDA Model 2 topics:\n",
    "- Topic 0: Human Rights - Criminal Justice\n",
    "- Topic 1: ? General Political Phrases\n",
    "- Topic 2: Health Care - War - Climate Change\n",
    "- Topic 3: Climate Change\n",
    "- Topic 4: Anti-Trump - War\n",
    "- Topic 5: Education - Military\n",
    "- Topic 6: Gun Violence - Campaigning in South Carolina\n",
    "- Topic 7: ? Weird mix of Saudi Arabia, China, and Puerto Rico\n",
    "- Topic 8: ? General Campaigning Phrases\n",
    "- Topic 9: Tulsi Gabbard\n",
    "\n",
    "This model seems slightly worse than Model 1, since a few Topics were hard for me to categorize."
   ]
  },
  {
   "cell_type": "code",
   "execution_count": 16,
   "metadata": {},
   "outputs": [
    {
     "name": "stdout",
     "output_type": "stream",
     "text": [
      "Topic 0\n",
      "['war', 'trump', 'cost', 'policy', 'iran', 'family', 'human', 'cold', 'care', 'administration', 'immigration', 'year', 'billion', 'military', 'corruption', 'mean', 'mr.', 'pay', 'need', 'system', 'washington', 'plan', 'deserve', 'medicare', 'rich']\n",
      "\n",
      "Topic 1\n",
      "['call', 'help', 'wealth', 'time', 'page', 'need', 'century', 'turn', 'ban', 'act', 'community', 'like', 'congress', 'demand', 'live', 'moral', 'support', 'assault', 'new', 'government', 'lie', '21st', 'million', 'terrible', 'nation']\n",
      "\n",
      "Topic 2\n",
      "['need', 'know', 'donor', 'trump', 'debate', 'planet', 'world', 'powerful', 'white', 'long', 'interest', 'go', '9/11', 'qualify', 'corporate', 'value', 'change', 'new', 'house', 'take', 'power', 'future', 'end', 'help', 'wait']\n",
      "\n",
      "Topic 3\n",
      "['change', 'climate', 'new', 'need', 'work', 'trump', 'biden', 'house', 'folk', 'policy', 'foreign', 'crisis', 'big', '#demdebate', 'issue', 'hampshire', 'talk', 'soldier', 'go', 'like', 'come', 'middle', 'build', 'joe', 'day']\n",
      "\n",
      "Topic 4\n",
      "['trump', 'donald', 'well', 'saudi', 'foreign', 'corruption', 'stand', '#demdebate', 'value', 'defeat', 'need', 'nation', 'like', 'world', 'support', 'know', 'road', 'truth', 'unique', 'kurds', 'work', 'year', 'dictator', 'policy', 'join']\n",
      "\n",
      "Topic 5\n",
      "['wage', 'support', 'fail', 'trump', 'clean', 'water', 'education', 'ensure', 'deserve', 'fight', 'affordable', 'corrupt', 'security', 'need', 'right', 'quality', 'access', 'iraq', 'public', 'live', 'war', 'proud', 'plan', 'work', 'fellow']\n",
      "\n",
      "Topic 6\n",
      "['year', 'gun', 'violence', 'south', 'vote', 'today', 'ago', 'carolina', 'voter', 'deep', 'offer', 'act', 'time', 'live', 'end', 'tax', 'prevent', 'rights', 'shoot', 'pride', 'citizen', 'epidemic', 'problem', 'bill', 'majority']\n",
      "\n",
      "Topic 7\n",
      "['peace', 'work', 'today', 'service', 'war', 'fight', 'right', 'honor', 'celebrate', 'china', 'equality', 'need', 'hold', 'policy', 'interest', 'justice', 'serve', 'continue', 'day', 'ensure', 'end', 'trump', 'commit', 'support', 'friend']\n",
      "\n",
      "Topic 8\n",
      "['al', 'debate', 'speech', 'medium', 'link', 'donor', 'tech', 'impeachment', 'follow', 'era', 'amaze', 'walk', '3rd', 'thanks', 'war', 'video', 'remain', 'let', 'consider', 'street', 'favorite', 'sc', 'privacy', 'know', 'danger']\n",
      "\n",
      "Topic 9\n",
      "['help', 'day', 'hall', 'town', 'road', 'meet', 'join', 'donate', 'campaign', 'chip', 'new', 'live', 'iowa', 'reach', 'week', '@realdonaldtrump', 'way', 'corporate', 'agree', 'let', 'debate', 'fight', 'ia', 'goal', 'tonight']\n",
      "\n",
      "Topic 10\n",
      "['love', 'party', 'chief', 'commander', 'let', 'win', 'race', 'candidate', 'democratic', 'time', 'big', 'need', 'chance', '#demdebate', 'interest', 'republican', 'come', 'idea', 'individual', 'run', 'end', 'base', '.@realdonaldtrump', 'matt', 'core']\n",
      "\n",
      "Topic 11\n",
      "['climate', 'change', 'live', 'join', 'hope', 'crisis', 'new', 'grateful', 'campaign', 'waste', 'emergency', 'support', 'serve', 'day', 'future', 'power', 'challenge', 'establishment', 'movement', 'face', 'forward', 'look', 'build', 'tune', 'september']\n",
      "\n",
      "Topic 12\n",
      "['government', 'work', 'trillion', 'job', 'healthcare', 'plan', 'good', 'fuel', 'sister', 'economy', 'common', 'need', 'pay', 'fossil', 'time', 'get', 'go', 'trump', 'well', 'believe', 'break', 'profit', 'fair', 'w/', 'spend']\n",
      "\n",
      "Topic 13\n",
      "['troop', 'presidency', 'love', 'community', 'family', 'end', 'veteran', 'color', 'fight', 'belong', 'white', 'liberty', 'home', 'deny', 'especially', 'right', 'life', 'year', 'discrimination', 'work', 'civil', 'day', 'prayer', 'hope', 'death']\n",
      "\n",
      "Topic 14\n",
      "['health', 'care', 'nuclear', 'need', 'iran', 'family', 'end', 'gun', 'right', 'cut', 'protect', 'safety', 'woman', 'reform', 'war', 'politician', 'live', 'crisis', 'christmas', 'law', 'attack', 'fight', 'iraq', 'serve', 'congress']\n",
      "\n",
      "Topic 15\n",
      "['stand', 'freedom', 'right', 'fight', 'live', 'work', 'free', 'worker', 'black', 'stranglehold', 'moment', 'protect', 'well', 'life', 'achieve', 'end', 'today', 'proud', 'isis', 'deserve', 'solidarity', 'democracy', 'destroy', 'community', 'defend']\n",
      "\n",
      "Topic 16\n",
      "['arm', 'leadership', 'uniform', 'know', '#demdebate', 'stage', 'fight', 'domestic', 'crime', 'legacy', 'let', 'inspire', 'drive', 'failure', 'go', 'experience', 'serve', 'need', 'mike', 'like', 'word', 'hate', 'voice', 'grateful', 'attention']\n",
      "\n"
     ]
    }
   ],
   "source": [
    "# Model 3: 17 topics, auto alpha\n",
    "\n",
    "total_topics = 17\n",
    "lda_alpha = 'auto'\n",
    "\n",
    "lda3 = models.LdaModel(corpus_rm,\n",
    "                       id2word = dictionary_rm,\n",
    "                       num_topics = total_topics,\n",
    "                       iterations = 1000,\n",
    "                       alpha = lda_alpha,\n",
    "                       random_state = 1)\n",
    "\n",
    "\n",
    "## Uncomment for fancy viz, but the topic numbers do not match lda.show_topics() \n",
    "#pyLDAvis.enable_notebook()\n",
    "#panel = pyLDAvis.gensim.prepare(lda1, corpus_rm, dictionary_rm, mds='tsne')\n",
    "#panel\n",
    "\n",
    "\n",
    "#Show first n=25 important words in the topics:\n",
    "topics = lda3.show_topics(total_topics, 25, formatted=False)\n",
    "\n",
    "\n",
    "for index, topic in topics:\n",
    "    tokens = [w[0] for w in topic]\n",
    "    print(f'Topic {index}\\n{tokens}\\n')"
   ]
  },
  {
   "cell_type": "markdown",
   "metadata": {},
   "source": [
    "Here's my generalizations of the LDA Model 3 topics:\n",
    "- Topic 0: War - Corrpution\n",
    "- Topic 1: ?\n",
    "- Topic 2: ?\n",
    "- Topic 3: Climate Change - Joe Biden\n",
    "- Topic 4: Trump's Foreign Policy and Corruption\n",
    "- Topic 5: ? Wide Range of Policy Topics\n",
    "- Topic 6: Gun Violence - South Carolina\n",
    "- Topic 7: War/Peace\n",
    "- Topic 8: Debate - Impeachment\n",
    "- Topic 9: Campaigning (donation goals, town hall, debate)\n",
    "- Topic 10: ?\n",
    "- Topic 11: Climate Change\n",
    "- Topic 12: Jobs/Economy\n",
    "- Topic 13: Military\n",
    "- Topic 14: Health Care - Middle East Topics (nuclear, Iran, Iraq, war)\n",
    "- Topic 15: General Political Sentiments\n",
    "- Topic 16: ?\n",
    "\n",
    "While this model determined some Topics well--9 and 12 were pretty focused on one idea--we couldn't determine any sort of pattern for some of them. I think this is the worst model so far."
   ]
  },
  {
   "cell_type": "markdown",
   "metadata": {},
   "source": [
    "So for LDA, Model 1 (6 topics) seems the best. I'm going to try NMF now to see if it does better."
   ]
  },
  {
   "cell_type": "markdown",
   "metadata": {},
   "source": [
    "## NMF"
   ]
  },
  {
   "cell_type": "code",
   "execution_count": 17,
   "metadata": {},
   "outputs": [],
   "source": [
    "# In NNMF factorization we will use term-frequency-inverse_document-frequency for weighting the term document matrix\n",
    "tfidf = models.TfidfModel(corpus_rm) # step 1 -- initialize a model\n",
    "corpus_tfidf = tfidf[corpus_rm]      # step 2 -- use the model to transform vectors"
   ]
  },
  {
   "cell_type": "code",
   "execution_count": 18,
   "metadata": {},
   "outputs": [
    {
     "name": "stdout",
     "output_type": "stream",
     "text": [
      "Computing the NMF model using 5 topics\n"
     ]
    },
    {
     "name": "stderr",
     "output_type": "stream",
     "text": [
      "C:\\Users\\nicol\\Anaconda3\\lib\\site-packages\\gensim\\models\\nmf.py:588: DeprecationWarning: Using or importing the ABCs from 'collections' instead of from 'collections.abc' is deprecated since Python 3.3,and in 3.9 it will stop working\n",
      "  if isinstance(corpus, collections.Iterator) and self.passes > 1:\n"
     ]
    },
    {
     "name": "stdout",
     "output_type": "stream",
     "text": [
      "Computing the NMF model using 6 topics\n",
      "Computing the NMF model using 7 topics\n",
      "Computing the NMF model using 8 topics\n",
      "Computing the NMF model using 9 topics\n",
      "Computing the NMF model using 10 topics\n",
      "Computing the NMF model using 11 topics\n",
      "Computing the NMF model using 12 topics\n",
      "Computing the NMF model using 13 topics\n",
      "Computing the NMF model using 14 topics\n",
      "Computing the NMF model using 15 topics\n",
      "Computing the NMF model using 16 topics\n",
      "Computing the NMF model using 17 topics\n",
      "Computing the NMF model using 18 topics\n",
      "Computing the NMF model using 19 topics\n",
      "Computing the NMF model using 20 topics\n"
     ]
    }
   ],
   "source": [
    "# Finding NMF model with the highest topic coherence\n",
    "\n",
    "### This takes a while to run!\n",
    "\n",
    "coherence_nmf = []\n",
    "topic_count_nmf = []\n",
    "\n",
    "for num_topics in range(5, 21, 1):\n",
    "\n",
    "    print(f\"Computing the NMF model using {num_topics} topics\")\n",
    "\n",
    "    nmf = Nmf(corpus_tfidf,\n",
    "              id2word = dictionary_rm,\n",
    "              passes = 20,\n",
    "              num_topics = num_topics,\n",
    "              random_state = 1)\n",
    "\n",
    "    topic_count_nmf.append(num_topics)\n",
    "\n",
    "    # Compute Coherence Score\n",
    "    cm = CoherenceModel(model=nmf, corpus=corpus_rm, dictionary=dictionary_rm, coherence='u_mass')\n",
    "    coherence_nmf.append(cm.get_coherence())"
   ]
  },
  {
   "cell_type": "code",
   "execution_count": 19,
   "metadata": {},
   "outputs": [],
   "source": [
    "### Creating a dataframe to plot coherence\n",
    "\n",
    "topics_nmf = pd.DataFrame({'num_topics':topic_count_nmf,\n",
    "                           'coherence': coherence_nmf})"
   ]
  },
  {
   "cell_type": "code",
   "execution_count": 20,
   "metadata": {},
   "outputs": [
    {
     "data": {
      "image/png": "[encoded data removed]",
      "text/plain": [
       "<Figure size 1440x360 with 1 Axes>"
      ]
     },
     "metadata": {
      "needs_background": "light"
     },
     "output_type": "display_data"
    }
   ],
   "source": [
    "# Graphing topic coherence for every model type\n",
    "topics_nmf.plot.line(x='num_topics', y='coherence',\n",
    "                             marker='.', figsize=(20,5))\n",
    "plt.xticks(range(5,21), topics_nmf.num_topics)\n",
    "plt.show()"
   ]
  },
  {
   "cell_type": "markdown",
   "metadata": {},
   "source": [
    "From the above plot, we can see that the models with `num_topics` equal to 5, 6, 8, or 9 have the highest coherence scores. \n",
    "\n",
    "I'm going to investigate the following models further, since they align with the LDA models (6 and 10 topics) used earlier.\n",
    "1. Model with `num_topics=6`\n",
    "2. Model with `num_topics = 9`"
   ]
  },
  {
   "cell_type": "code",
   "execution_count": 21,
   "metadata": {},
   "outputs": [
    {
     "name": "stdout",
     "output_type": "stream",
     "text": [
      "Topic 0\n",
      "['iowa', 'join', 'day', 'live', 'right', 'come', 'work', 'today', 'fight', 'great', 'caucus', 'new', 'thanks', 'hampshire', 'tulsi', 'town', 'hall', 'let', 'family', 'county', 'time', 'love', 'nation', 'justice', 'friend']\n",
      "\n",
      "Topic 1\n",
      "['campaign', 'chip', 'win', 'big', 'help', 'movement', 'grassroots', 'build', 'tonight', 'fight', 'structural', 'donor', 'go', 'debate', 'change', 'need', 'million', 'goal', 'momentum', 'deadline', '#demdebate', 'stage', 'donation', 'fundraising', 'donate']\n",
      "\n",
      "Topic 2\n",
      "['care', 'health', 'need', 'plan', 'climate', 'change', 'medicare', 'fight', 'affordable', 'right', 'protect', 'family', 'crisis', 'ensure', 'cost', 'access', 'insurance', 'build', 'quality', 'mental', 'work', 'obamacare', '#demdebate', 'system', 'coverage']\n",
      "\n",
      "Topic 3\n",
      "['worker', 'pay', 'stand', 'union', 'deserve', 'wage', 'fair', 'student', 'job', 'work', 'well', 'teacher', 'tax', 'school', 'good', 'public', 'debt', 'class', 'education', 'corporation', 'war', 'benefit', 'get', 'fight', 'time']\n",
      "\n",
      "Topic 4\n",
      "['trump', 'donald', 'defeat', 'climate', 'beat', 'new', 'crisis', 'go', 'nation', 'white', 'year', 'change', 'let', 'house', 'history', 'know', 'term', 'candidate', 'corrupt', 'corruption', 'administration', 'day', 'deal', 'action', 'world']\n",
      "\n",
      "Topic 5\n",
      "['gun', 'violence', 'end', 'epidemic', 'pass', 'house', 'safety', '#demdebate', 'white', 'year', 'time', '@nra', 'need', 'reform', 'law', 'election', 'united', 'act', 'go', 'want', 'states', 'senate', 'ban', 'weapon', 'action']\n",
      "\n"
     ]
    }
   ],
   "source": [
    "# Model 1: 6 topics\n",
    "\n",
    "total_topics = 6\n",
    "\n",
    "nmf1 = Nmf(corpus_tfidf,\n",
    "              id2word = dictionary_rm,\n",
    "              passes = 20,\n",
    "              num_topics = total_topics,\n",
    "              random_state = 1)\n",
    "\n",
    "#Show first n=25 important words in the topics:\n",
    "topics = nmf1.show_topics(total_topics, 25, formatted=False)\n",
    "\n",
    "\n",
    "for index, topic in topics:\n",
    "    tokens = [w[0] for w in topic]\n",
    "    print(f'Topic {index}\\n{tokens}\\n')"
   ]
  },
  {
   "cell_type": "markdown",
   "metadata": {},
   "source": [
    "Here's my generalizations of the NMF Model 1 topics:\n",
    "- Topic 0: Campaigning in Iowa and New Hampshire\n",
    "- Topic 1: Donating\n",
    "- Topic 2: Health Care - Climate Change\n",
    "- Topic 3: Workers' Rights - Education\n",
    "- Topic 4: Defeating Trump\n",
    "- Topic 5: Gun Violence - General Legislation\n",
    "\n",
    "This model is a lot better than any of the LDA models! The Topics are much more focused and don't show up in other ones."
   ]
  },
  {
   "cell_type": "code",
   "execution_count": 22,
   "metadata": {},
   "outputs": [
    {
     "name": "stdout",
     "output_type": "stream",
     "text": [
      "Topic 0\n",
      "['time', 'know', 'trump', 'house', 'white', 'come', 'election', 'need', 'democracy', 'united', 'year', 'nation', 'donald', 'states', 'security', 'run', 'middle', 'republican', 'say', 'let', 'war', 'senate', 'tax', 'administration', 'foreign']\n",
      "\n",
      "Topic 1\n",
      "['win', 'big', 'fight', 'structural', '2020', 'hard', 'dream', 'bring', 'election', 'iowa', 'change', 'build', 'movement', 'let', 'go', 'ready', 'ticket', 'need', 'know', 'candidate', 'organize', '#lj19', 'moment', 'caucus', 'want']\n",
      "\n",
      "Topic 2\n",
      "['new', 'chip', 'help', 'hampshire', 'campaign', 'day', 'iowa', 'tonight', 'today', 'join', 'debate', 'caucus', 'grassroots', 'momentum', 'goal', 'south', 'carolina', 'nevada', 'primary', 'voter', 'donor', 'great', 'deadline', 'poll', 'fundraising']\n",
      "\n",
      "Topic 3\n",
      "['#demdebate', 'well', 'right', 'stage', 'thing', 'change', 'good', 'ready', 'big', 'idea', 'turn', 'need', 'page', 'time', 'tonight', 'want', 'woman', 'believe', 'get', 'moment', 'structural', 'joe', 'future', 'tune', 'public']\n",
      "\n",
      "Topic 4\n",
      "['fight', 'worker', 'stand', 'work', 'union', 'right', 'wage', 'deserve', 'proud', 'fair', 'family', 'pay', 'job', 'justice', 'benefit', 'member', 'dignity', 'well', 'hard', 'support', 'live', 'alongside', 'teacher', 'strike', 'economy']\n",
      "\n",
      "Topic 5\n",
      "['care', 'health', 'medicare', 'plan', 'affordable', 'cost', 'insurance', 'need', 'family', 'access', 'quality', 'mental', 'ensure', 'child', 'obamacare', 'pay', 'education', 'protect', 'coverage', 'system', 'public', '#medicareforall', 'build', 'million', 'afford']\n",
      "\n",
      "Topic 6\n",
      "['donald', 'trump', 'defeat', 'go', 'beat', 'campaign', 'join', 'work', 'build', 'movement', 'live', 'iowa', 'way', 'corruption', 'grassroots', 'history', 'million', 'coalition', 'economy', 'billionaires', 'government', 'november', 'corporate', 'transform', 'class']\n",
      "\n",
      "Topic 7\n",
      "['climate', 'crisis', 'change', 'emergency', 'action', 'address', 'planet', 'wait', 'threat', 'world', 'day', 'deal', 'need', 'national', 'green', 'existential', 'declare', 'plan', 'tackle', 'future', 'act', 'lead', 'global', 'create', 'science']\n",
      "\n",
      "Topic 8\n",
      "['gun', 'violence', 'end', 'epidemic', 'safety', '@nra', 'pass', 'reform', 'community', 'live', 'weapon', 'sense', 'common', 'vote', 'nra', 'background', 'ban', 'assault', 'check', 'legislation', 'manufacturer', 'action', 'act', 'war', 'law']\n",
      "\n"
     ]
    }
   ],
   "source": [
    "# Model 2: 9 topics\n",
    "\n",
    "total_topics = 9\n",
    "\n",
    "nmf2 = Nmf(corpus_tfidf,\n",
    "              id2word = dictionary_rm,\n",
    "              passes = 20,\n",
    "              num_topics = total_topics,\n",
    "              random_state = 1)\n",
    "\n",
    "#Show first n=25 important words in the topics:\n",
    "topics = nmf2.show_topics(total_topics, 25, formatted=False)\n",
    "\n",
    "\n",
    "for index, topic in topics:\n",
    "    tokens = [w[0] for w in topic]\n",
    "    print(f'Topic {index}\\n{tokens}\\n')"
   ]
  },
  {
   "cell_type": "markdown",
   "metadata": {},
   "source": [
    "Here's my generalizations of the NMF Model 2 topics:\n",
    "- Topic 0: ? General Political Terms\n",
    "- Topic 1: Positive/Winning\n",
    "- Topic 2: Campaigning (NH, IA, SC, NV)\n",
    "- Topic 3: Debate\n",
    "- Topic 4: Workers' Rights\n",
    "- Topic 5: Health Care\n",
    "- Topic 6: Defeating Trump\n",
    "- Topic 7: Climate Change\n",
    "- Topic 8: Gun Violence\n",
    "\n",
    "This model seems slightly worse than NMF Model 1. I like how it split apart Health Care and Climate Change, but the first four topics seemed very similar in the general campaigning ideas."
   ]
  },
  {
   "cell_type": "markdown",
   "metadata": {},
   "source": [
    "Overall, NMF Model 1 seems like the best option."
   ]
  },
  {
   "cell_type": "markdown",
   "metadata": {},
   "source": [
    "### Exploring the Best Model\n",
    "#### Wordclouds for Each Topic\n",
    "The following code was used to create word clouds for each topic and then they were combined into one image, which is included after the code."
   ]
  },
  {
   "cell_type": "code",
   "execution_count": 23,
   "metadata": {},
   "outputs": [],
   "source": [
    "### Creating a dataframe of topics, top n=num_tokens tokens, and their probabilities\n",
    "\n",
    "# Selecting top 30 tokens\n",
    "num_tokens = 30\n",
    "\n",
    "# This has all the data but in a messier format\n",
    "topics = nmf1.show_topics(6, num_tokens, formatted=False)\n",
    "\n",
    "# Creating the dataframe\n",
    "topic_list = []\n",
    "tokens_list = []\n",
    "probs_list = []\n",
    "\n",
    "for index, topic in topics:\n",
    "    topic_list += [index]*num_tokens\n",
    "    tokens_list += [w[0] for w in topic]\n",
    "    probs_list += [w[1] for w in topic]\n",
    " \n",
    "modelDF = pd.DataFrame(list(zip(topic_list, tokens_list, probs_list)),\n",
    "                      columns = ['Topic', 'Token', 'Probability'])\n",
    "\n",
    "\n",
    "# Replacing topic indices with their label\n",
    "topic_labels = {0:'Campaigning',\n",
    "                1:'Donations',\n",
    "                2:'HealthCare_ClimateChange',\n",
    "                3:'WorkersRights_Education',\n",
    "                4:'Trump',\n",
    "                5:'GunViolence_Legislation'}\n",
    "\n",
    "modelDF = modelDF.replace({'Topic':topic_labels})"
   ]
  },
  {
   "cell_type": "code",
   "execution_count": 92,
   "metadata": {},
   "outputs": [
    {
     "data": {
      "text/plain": [
       "<wordcloud.wordcloud.WordCloud at 0x217ff84ebc8>"
      ]
     },
     "execution_count": 92,
     "metadata": {},
     "output_type": "execute_result"
    }
   ],
   "source": [
    "### Creating Wordclouds\n",
    "# NOTE: plotting functions are commented out, since the combined image is provided later\n",
    "\n",
    "# Helper function to get data for each topic ready for the wordcloud\n",
    "def prepWordcloudData(topic):\n",
    "    '''\n",
    "    Creates a dictionary of words and probabilities for each topic, which can be used to generate a wordcloud.\n",
    "    Input: topic (str)\n",
    "    Output: d (dict)\n",
    "    '''\n",
    "    topicDF = modelDF[modelDF['Topic']==topic].drop('Topic', axis=1)\n",
    "    d = {}\n",
    "    for a, x in topicDF.values:\n",
    "        d[a] = x\n",
    "    return d\n",
    "\n",
    "\n",
    "# Helper function for plotting generated wordcloud\n",
    "def plotWordcloud(wc):\n",
    "    '''\n",
    "    Plots the generated wordcloud without an axis\n",
    "    Input: wc (wordcloud)\n",
    "    Output: None\n",
    "    '''\n",
    "    plt.figure()\n",
    "    plt.imshow(wordcloud, interpolation=\"bilinear\")\n",
    "    plt.axis(\"off\")\n",
    "    plt.show()\n",
    "\n",
    "\n",
    "# Topic 0: Campaigning\n",
    "topic_dict = prepWordcloudData('Campaigning')\n",
    "wordcloud = WordCloud(width = 3000, height = 2000, random_state=1, background_color='gray', colormap='seismic')\n",
    "wordcloud.generate_from_frequencies(frequencies = topic_dict)\n",
    "#plotWordcloud(wordcloud)\n",
    "\n",
    "\n",
    "# Topic 1: Donations\n",
    "topic_dict = prepWordcloudData('Donations')\n",
    "wordcloud = WordCloud(width = 3000, height = 2000, random_state=1, background_color='gray', colormap='Greens')\n",
    "wordcloud.generate_from_frequencies(frequencies = topic_dict)\n",
    "#plotWordcloud(wordcloud)\n",
    "\n",
    "\n",
    "# Topic 2: Health Care and Climate Change\n",
    "topic_dict = prepWordcloudData('HealthCare_ClimateChange')\n",
    "wordcloud = WordCloud(width = 3000, height = 2000, random_state=9, background_color='gray', colormap='winter')\n",
    "wordcloud.generate_from_frequencies(frequencies = topic_dict)\n",
    "#plotWordcloud(wordcloud)\n",
    "\n",
    "\n",
    "# Topic 3: Workers' Rights and Education\n",
    "topic_dict = prepWordcloudData('WorkersRights_Education')\n",
    "wordcloud = WordCloud(width = 3000, height = 2000, random_state=4, background_color='gray', colormap='Reds')\n",
    "wordcloud.generate_from_frequencies(frequencies = topic_dict)\n",
    "#plotWordcloud(wordcloud)\n",
    "\n",
    "\n",
    "# Topic 4: Defeating Trump\n",
    "topic_dict = prepWordcloudData('Trump')\n",
    "wordcloud = WordCloud(width = 3000, height = 2000, random_state=7, background_color='gray', colormap='YlOrRd')\n",
    "wordcloud.generate_from_frequencies(frequencies = topic_dict)\n",
    "#plotWordcloud(wordcloud)\n",
    "\n",
    "\n",
    "# Topic 5: Gun Violence and Legislation\n",
    "topic_dict = prepWordcloudData('GunViolence_Legislation')\n",
    "wordcloud = WordCloud(width = 3000, height = 2000, random_state=10, background_color='gray', colormap='gist_heat')\n",
    "wordcloud.generate_from_frequencies(frequencies = topic_dict)\n",
    "#plotWordcloud(wordcloud)"
   ]
  },
  {
   "cell_type": "markdown",
   "metadata": {},
   "source": [
    "![Wordclouds for Each Topic](TopicWordclouds.png \"Wordclouds for Each Topic\")"
   ]
  },
  {
   "cell_type": "markdown",
   "metadata": {},
   "source": [
    "#### Topic Frequencies"
   ]
  },
  {
   "cell_type": "code",
   "execution_count": 28,
   "metadata": {},
   "outputs": [],
   "source": [
    "# Running the original tweets back through the model to infer the distribution of topics \n",
    "# according to the NMF model\n",
    "\n",
    "topics = []\n",
    "probs = []\n",
    "\n",
    "for k, i in enumerate(range(len(DF['TextOnly']))):\n",
    "    bow = dictionary_rm.doc2bow(DF['TextOnly'][i])\n",
    "    doc_topics = nmf1.get_document_topics(bow, minimum_probability = 0.01)\n",
    "    topics_sorted = sorted(doc_topics, key = lambda x: x[1], reverse = True)\n",
    "    \n",
    "    if topics_sorted == []:\n",
    "        topics.append(999)  # No topic was given (these were tweets that ended up as [] after pre-processing)\n",
    "        probs.append(0)\n",
    "\n",
    "    else:\n",
    "        topics.append(topics_sorted[0][0])\n",
    "        probs.append(topics_sorted[0][1])\n",
    "\n",
    "\n",
    "# Adding the top topic and its probability in new columns\n",
    "DF['NMFtopic'] = pd.Series(topics)\n",
    "DF['NMFprob'] = pd.Series(probs)\n",
    "\n",
    "\n",
    "# Replacing topic indices with their label\n",
    "topic_labels = {0:'Campaigning',\n",
    "                1:'Donations',\n",
    "                2:'HealthCare_ClimateChange',\n",
    "                3:'WorkersRights_Education',\n",
    "                4:'Trump',\n",
    "                5:'GunViolence_Legislation',\n",
    "                999:'None'}\n",
    "\n",
    "DF = DF.replace({'NMFtopic':topic_labels})\n",
    "\n",
    "# Writing DF to csv\n",
    "DF.to_csv('Data/TopicsTweets.csv', index=False)"
   ]
  },
  {
   "cell_type": "code",
   "execution_count": 25,
   "metadata": {},
   "outputs": [
    {
     "data": {
      "text/plain": [
       "11"
      ]
     },
     "execution_count": 25,
     "metadata": {},
     "output_type": "execute_result"
    }
   ],
   "source": [
    "# Double-checking how many tweets did not have a topic (the tweets didn't have any tokens left after pre-processing)\n",
    "len(DF[DF['NMFtopic']=='None'])"
   ]
  },
  {
   "cell_type": "code",
   "execution_count": 26,
   "metadata": {},
   "outputs": [],
   "source": [
    "# Since there were only 11, I'm going to remove those tweets\n",
    "topicDF = DF[DF['NMFtopic']!='None']"
   ]
  },
  {
   "cell_type": "code",
   "execution_count": 27,
   "metadata": {},
   "outputs": [
    {
     "data": {
      "text/plain": [
       "Text(0.0, 1.0, 'Distribution of Tweets by Topic')"
      ]
     },
     "execution_count": 27,
     "metadata": {},
     "output_type": "execute_result"
    },
    {
     "data": {
      "image/png": "[encoded data removed]",
      "text/plain": [
       "<Figure size 864x576 with 1 Axes>"
      ]
     },
     "metadata": {
      "needs_background": "light"
     },
     "output_type": "display_data"
    }
   ],
   "source": [
    "# Plotting the distribution of tweets by topic\n",
    "colors = [\"#032dfa\", \"#2c6b33\", \"#54db90\", \"#f48d30\", \"#b42209\", \"#323131\"]\n",
    "fig, ax = plt.subplots(figsize = (12,8))\n",
    "sns.countplot(y='NMFtopic', data=topicDF, palette=colors, ax=ax)\n",
    "ax.set_xlabel('Number of Tweets', fontsize = 12)\n",
    "ax.set_yticklabels(('Campaigning', 'Donations',\n",
    "                    'Health Care &\\nClimate Change', 'Defeating Trump', \n",
    "                    \"Workers' Rights &\\nEducation\", 'Gun Violence &\\nLegislation'))\n",
    "ax.set_ylabel('NMF Topic', fontsize = 12)\n",
    "ax.set_title(\"Distribution of Tweets by Topic\", \n",
    "             loc = 'left', fontweight = 'semibold', fontsize = 14)"
   ]
  },
  {
   "cell_type": "markdown",
   "metadata": {},
   "source": [
    "A lot of the tweets were in the general campaigning and donations topics, which makes sense for candidates' Twitter accounts. Otherwise, the candidates overall were about equally-focused on health care/climate change, defeating Trump, and workers' rights/education. There were more tweets in the gun violence/legislation topic than the previous three, which was probably driven by the mass shootings in El Paso, Dayton, and elsewhere."
   ]
  },
  {
   "cell_type": "markdown",
   "metadata": {},
   "source": [
    "#### Candidates' Tweets by Topic"
   ]
  },
  {
   "cell_type": "code",
   "execution_count": 29,
   "metadata": {},
   "outputs": [],
   "source": [
    "# Setting up a dataframe where the index is the candidates, each NMF topic is a column, and the values are counts\n",
    "authorDF = (topicDF.loc[:,['UserName', 'NMFtopic']]\n",
    "            .groupby(['UserName', 'NMFtopic'])['UserName']\n",
    "            .count()\n",
    "            .unstack('NMFtopic'))\n",
    "\n",
    "# Setting up a normalized dataframe for percents of a candidate's tweets in each topic\n",
    "# (first line is just reordering the columns to match previous graph)\n",
    "perDF = (authorDF[['Campaigning','Donations','HealthCare_ClimateChange',\n",
    "                   'Trump','WorkersRights_Education','GunViolence_Legislation']]\n",
    "         .apply(lambda x: x*100/sum(x), axis=1))"
   ]
  },
  {
   "cell_type": "code",
   "execution_count": 30,
   "metadata": {},
   "outputs": [
    {
     "data": {
      "text/plain": [
       "Text(0.0, 1.0, \"Percent of Candidates' Tweets Categorized as Each Topic\")"
      ]
     },
     "execution_count": 30,
     "metadata": {},
     "output_type": "execute_result"
    },
    {
     "name": "stderr",
     "output_type": "stream",
     "text": [
      "C:\\Users\\nicol\\Anaconda3\\lib\\site-packages\\matplotlib\\backends\\backend_agg.py:238: RuntimeWarning: Glyph 127802 missing from current font.\n",
      "  font.set_text(s, 0.0, flags=flags)\n",
      "C:\\Users\\nicol\\Anaconda3\\lib\\site-packages\\matplotlib\\backends\\backend_agg.py:201: RuntimeWarning: Glyph 127802 missing from current font.\n",
      "  font.set_text(s, 0, flags=flags)\n"
     ]
    },
    {
     "data": {
      "image/png": "[encoded data removed]",
      "text/plain": [
       "<Figure size 864x576 with 1 Axes>"
      ]
     },
     "metadata": {
      "needs_background": "light"
     },
     "output_type": "display_data"
    }
   ],
   "source": [
    "# Plotting percent of candidates' tweets by topic\n",
    "fig, ax = plt.subplots(figsize = (12,8))\n",
    "perDF.plot(kind='barh', stacked=True, ax=ax, color=colors)\n",
    "plt.legend(labels = ['Campaigning', 'Donations',\n",
    "                      'Health Care &\\nClimate Change', 'Defeating Trump', \n",
    "                      \"Workers' Rights &\\nEducation\", 'Gun Violence &\\nLegislation'],\n",
    "           title = \"NMF Topic\",\n",
    "           bbox_to_anchor=(1,1))\n",
    "ax.set_xlabel(\"Percent of the Candidate's Tweets\", fontsize = 12)\n",
    "ax.set_ylabel('Candidate', fontsize = 12)\n",
    "ax.set_title(\"Percent of Candidates' Tweets Categorized as Each Topic\", \n",
    "             loc = 'left', fontweight = 'semibold', fontsize = 14)"
   ]
  },
  {
   "cell_type": "markdown",
   "metadata": {},
   "source": [
    "Some Insights:\n",
    "- Biden and Steyer had proportionally more 'Defeating Trump' tweets\n",
    "- Sanders had proportionally more 'Worker's Rights/Education' tweets\n",
    "- Gabbard and Klobuchar had more 'Campaigning' tweets and less 'Health Care/Climate Change' tweets than the rest of the candidates, who were more even"
   ]
  }
 ],
 "metadata": {
  "kernelspec": {
   "display_name": "Python 3",
   "language": "python",
   "name": "python3"
  },
  "language_info": {
   "codemirror_mode": {
    "name": "ipython",
    "version": 3
   },
   "file_extension": ".py",
   "mimetype": "text/x-python",
   "name": "python",
   "nbconvert_exporter": "python",
   "pygments_lexer": "ipython3",
   "version": "3.7.9"
  }
 },
 "nbformat": 4,
 "nbformat_minor": 4
}
